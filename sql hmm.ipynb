{
 "cells": [
  {
   "cell_type": "code",
   "execution_count": 1,
   "metadata": {},
   "outputs": [],
   "source": [
    "import os\n",
    "import requests \n",
    "import datetime\n",
    "import numpy as np\n",
    "import time"
   ]
  },
  {
   "cell_type": "code",
   "execution_count": 2,
   "metadata": {},
   "outputs": [],
   "source": [
    "import sqlite3\n",
    "from sqlite3 import Error"
   ]
  },
  {
   "cell_type": "code",
   "execution_count": 3,
   "metadata": {},
   "outputs": [],
   "source": [
    "db_file = 'C:\\Python\\sqlitedb\\weather.db'"
   ]
  },
  {
   "cell_type": "code",
   "execution_count": 4,
   "metadata": {},
   "outputs": [],
   "source": [
    "sql_script = \"\"\"CREATE TABLE IF NOT EXISTS openweathermap_weather (\n",
    "                                    id integer PRIMARY KEY,\n",
    "                                    city text NOT NULL,\n",
    "                                    request_date date NOT NULL,\n",
    "                                    weather json NOT NULL                                   \n",
    "                                );\"\"\""
   ]
  },
  {
   "cell_type": "code",
   "execution_count": 5,
   "metadata": {},
   "outputs": [
    {
     "name": "stdout",
     "output_type": "stream",
     "text": [
      "2.6.0\n",
      "connection is established!\n"
     ]
    }
   ],
   "source": [
    "conn = None\n",
    "try:\n",
    "    conn = sqlite3.connect(db_file)\n",
    "    print(sqlite3.version)\n",
    "    print(\"connection is established!\")\n",
    "except Error as e:\n",
    "    print(e)             "
   ]
  },
  {
   "cell_type": "code",
   "execution_count": 6,
   "metadata": {},
   "outputs": [
    {
     "name": "stdout",
     "output_type": "stream",
     "text": [
      "Script executed!\n"
     ]
    }
   ],
   "source": [
    "try:\n",
    "    c = conn.cursor()\n",
    "    c.execute(sql_script)\n",
    "except Error as e:\n",
    "    print(e)  \n",
    "    \n",
    "print('Script executed!')"
   ]
  },
  {
   "cell_type": "code",
   "execution_count": 7,
   "metadata": {},
   "outputs": [],
   "source": [
    "def openweathermap_request(city):\n",
    "    \"\"\" return weather for entred sity name\n",
    "    :param city: name of the sity form city.list.json\n",
    "    :return: json object with weather\n",
    "    \"\"\"\n",
    "    #api.openweathermap.org/data/2.5/forecast?q={city name},{country code} request string from documentation\n",
    "    \n",
    "    #token\n",
    "    token = '3b0b395acfbd1073bb48e4d5cd0ef122'\n",
    "    #api adress for request\n",
    "    url = 'https://api.openweathermap.org/data/2.5/weather'\n",
    "    params = {'APPID': token, 'q': city, 'units': 'Metric'}\n",
    "    response = requests.get(url, params=params)\n",
    "    weather = response.json()\n",
    "    print(weather)   \n",
    "    return weather"
   ]
  },
  {
   "cell_type": "code",
   "execution_count": 8,
   "metadata": {},
   "outputs": [],
   "source": [
    "#Sities of Belarus with population more than 100k\n",
    "cities_list ={'Minsk','Navapolatsk','Svyetlahorsk',\n",
    "              'Homyel','Vitebsk','Mahilyow',\n",
    "              'Hrodna','Brest','Babruysk',\n",
    "              'Baranovichi','Barysaw','Pinsk',\n",
    "              'Orsha','Mazyr','Soligorsk',\n",
    "              'Lida'}"
   ]
  },
  {
   "cell_type": "code",
   "execution_count": null,
   "metadata": {},
   "outputs": [],
   "source": [
    "sql = ''' INSERT INTO openweathermap_weather(city,request_date,weather) VALUES(?,?,?) '''"
   ]
  },
  {
   "cell_type": "code",
   "execution_count": null,
   "metadata": {},
   "outputs": [],
   "source": [
    "def isntert_in_db(city, date_time, weather):\n",
    "        print('City :', city)\n",
    "        print('Date', date_time)\n",
    "        print('Weather', weather)\n",
    "        cur = conn.cursor()\n",
    "        cur.execute(sql, (city, date_time, weather))"
   ]
  },
  {
   "cell_type": "code",
   "execution_count": null,
   "metadata": {},
   "outputs": [],
   "source": []
  },
  {
   "cell_type": "code",
   "execution_count": 9,
   "metadata": {},
   "outputs": [],
   "source": [
    "# calls per minutes - limit from subscription type\n",
    "cpm = 10"
   ]
  },
  {
   "cell_type": "code",
   "execution_count": null,
   "metadata": {},
   "outputs": [],
   "source": [
    "\n",
    "while True:\n",
    "    for city in cities_list:\n",
    "        isntert_in_db(city, datetime.datetime.now(), openweathermap_request(city))\n",
    "        time.sleep(60/cpm + np.random.randint(1, 10))\n",
    "    time.sleep(2)"
   ]
  },
  {
   "cell_type": "code",
   "execution_count": 12,
   "metadata": {},
   "outputs": [],
   "source": [
    "conn.close()"
   ]
  }
 ],
 "metadata": {
  "kernelspec": {
   "display_name": "Python 3",
   "language": "python",
   "name": "python3"
  },
  "language_info": {
   "codemirror_mode": {
    "name": "ipython",
    "version": 3
   },
   "file_extension": ".py",
   "mimetype": "text/x-python",
   "name": "python",
   "nbconvert_exporter": "python",
   "pygments_lexer": "ipython3",
   "version": "3.7.4"
  }
 },
 "nbformat": 4,
 "nbformat_minor": 2
}
