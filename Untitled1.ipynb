{
 "cells": [
  {
   "cell_type": "code",
   "execution_count": 6,
   "metadata": {},
   "outputs": [
    {
     "name": "stderr",
     "output_type": "stream",
     "text": [
      "Using TensorFlow backend.\n"
     ]
    }
   ],
   "source": [
    "import pandas as pd\n",
    "from imageai.Detection import ObjectDetection\n",
    "def machine_vision_immage(filename, savenewfile=False, sensitivity=20, newfilepath=\"result.jpg\"):\n",
    "    path = 'resnet50_coco_best_v2.0.1.h5'\n",
    "    detector = ObjectDetection()\n",
    "    detector.setModelTypeAsRetinaNet()\n",
    "    detector.setModelPath(path)\n",
    "    detector.loadModel()\n",
    "    if savenewfile is True:\n",
    "        return pd.DataFrame(detector.detectCustomObjectsFromImage(input_image=filename, output_image_path=newfilepath, minimum_percentage_probability=sensitivity, display_object_name=True, display_percentage_probability=False))\n",
    "    else:\n",
    "        return pd.DataFrame(detector.detectCustomObjectsFromImage(input_image=filename, minimum_percentage_probability=sensitivity, display_object_name=True, display_percentage_probability=False))"
   ]
  }
 ],
 "metadata": {
  "kernelspec": {
   "display_name": "Python 3",
   "language": "python",
   "name": "python3"
  },
  "language_info": {
   "codemirror_mode": {
    "name": "ipython",
    "version": 3
   },
   "file_extension": ".py",
   "mimetype": "text/x-python",
   "name": "python",
   "nbconvert_exporter": "python",
   "pygments_lexer": "ipython3",
   "version": "3.7.3"
  }
 },
 "nbformat": 4,
 "nbformat_minor": 2
}
