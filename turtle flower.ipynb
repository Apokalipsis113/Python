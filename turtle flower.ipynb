{
 "cells": [
  {
   "cell_type": "code",
   "execution_count": 1,
   "metadata": {},
   "outputs": [],
   "source": [
    "import turtle\n",
    "import numpy as np"
   ]
  },
  {
   "cell_type": "code",
   "execution_count": 2,
   "metadata": {},
   "outputs": [],
   "source": [
    "def polygon (turtle_name, rib_number, rib_lenght):\n",
    "    angle = 360/rib_number\n",
    "    for i in range(rib_number):        \n",
    "        t.fd(rib_lenght)\n",
    "        t.lt(angle) "
   ]
  },
  {
   "cell_type": "code",
   "execution_count": 3,
   "metadata": {},
   "outputs": [],
   "source": [
    "t = turtle.Turtle()"
   ]
  },
  {
   "cell_type": "code",
   "execution_count": 4,
   "metadata": {},
   "outputs": [],
   "source": [
    "# t = turtle.Turtle()\n",
    "# polygon(t,600,1)\n",
    "# turtle.mainloop()"
   ]
  },
  {
   "cell_type": "code",
   "execution_count": 5,
   "metadata": {},
   "outputs": [],
   "source": [
    "def circle(turtle_name,r):\n",
    "    circum = 2 * np.pi * r\n",
    "    n = int(circum/3) + 3\n",
    "    length = circum / n\n",
    "    polygon(turtle_name,n,length)"
   ]
  },
  {
   "cell_type": "code",
   "execution_count": 6,
   "metadata": {},
   "outputs": [],
   "source": [
    "# circle(t,60)\n",
    "# turtle.mainloop()"
   ]
  },
  {
   "cell_type": "code",
   "execution_count": 7,
   "metadata": {},
   "outputs": [],
   "source": [
    "def arc(turtle_name, r, angle):\n",
    "    arc_lenght = 2 * np.pi * r * (angle/360)\n",
    "    n = int(arc_lenght/3) + 1\n",
    "    step_lenght = arc_lenght/n\n",
    "    step_angle = angle/n\n",
    "    \n",
    "    #add color fill\n",
    "    turtle_name.color('black','yellow')\n",
    "    turtle_name.begin_fill()\n",
    "    \n",
    "    for i in range(n): \n",
    "        turtle_name.fd(step_lenght)\n",
    "        turtle_name.lt(step_angle) \n",
    "    turtle_name.end_fill()"
   ]
  },
  {
   "cell_type": "code",
   "execution_count": 8,
   "metadata": {},
   "outputs": [],
   "source": [
    "def petal(turtle_name,r,angle):\n",
    "    for i in range(2):\n",
    "        arc(turtle_name,r,angle)\n",
    "        turtle_name.lt(180-angle)"
   ]
  },
  {
   "cell_type": "code",
   "execution_count": 11,
   "metadata": {},
   "outputs": [],
   "source": [
    "def flower(turtle_name,petal_number, petal_radius, petal_angle):\n",
    "    for i in range(petal_number):\n",
    "        petal(turtle_name,petal_radius,petal_angle)\n",
    "        turtle_name.lt(360.0/petal_number)"
   ]
  },
  {
   "cell_type": "code",
   "execution_count": 12,
   "metadata": {},
   "outputs": [],
   "source": [
    "flower(t,10, 300, 45)\n",
    "turtle.mainloop()"
   ]
  },
  {
   "cell_type": "code",
   "execution_count": null,
   "metadata": {},
   "outputs": [],
   "source": []
  }
 ],
 "metadata": {
  "kernelspec": {
   "display_name": "Python 3",
   "language": "python",
   "name": "python3"
  },
  "language_info": {
   "codemirror_mode": {
    "name": "ipython",
    "version": 3
   },
   "file_extension": ".py",
   "mimetype": "text/x-python",
   "name": "python",
   "nbconvert_exporter": "python",
   "pygments_lexer": "ipython3",
   "version": "3.7.3"
  }
 },
 "nbformat": 4,
 "nbformat_minor": 2
}
