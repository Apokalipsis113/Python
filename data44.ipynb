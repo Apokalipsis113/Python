{
 "cells": [
  {
   "cell_type": "code",
   "execution_count": 40,
   "metadata": {},
   "outputs": [],
   "source": [
    "import numpy as np\n",
    "import pandas as pd\n",
    "import xlrd\n",
    "import shutil"
   ]
  },
  {
   "cell_type": "code",
   "execution_count": 41,
   "metadata": {},
   "outputs": [],
   "source": [
    "def func_mean(data):\n",
    "#     print(\"func_std is woring\")\n",
    "    res = []\n",
    "    for lvl  in data[\"lvl\"].unique():\n",
    "        j = data.loc[data.lvl == lvl ]\n",
    "        res.append(np.mean(j.iloc[:,1:4].values))\n",
    "    return res"
   ]
  },
  {
   "cell_type": "code",
   "execution_count": 42,
   "metadata": {},
   "outputs": [],
   "source": [
    "def func_std(data):\n",
    "#     print(\"func_avg is woring\")\n",
    "    res = []\n",
    "    for lvl  in data[\"lvl\"].unique():\n",
    "        j = data.loc[data[\"lvl\"] == lvl ]\n",
    "        #ddof=1 make np.std works like excel STDEV\n",
    "        res.append(np.std(j.iloc[:,1:4].values,ddof=1)) \n",
    "    return res"
   ]
  },
  {
   "cell_type": "code",
   "execution_count": 43,
   "metadata": {},
   "outputs": [],
   "source": [
    "def func_kohr(data):\n",
    "#     print(\"func_koh is woring\")\n",
    "    return np.array(func_std(data)) * np.array(func_std(data))"
   ]
  },
  {
   "cell_type": "code",
   "execution_count": 44,
   "metadata": {},
   "outputs": [],
   "source": [
    "def calculations(source_file=\"data44.xlsx\", destenation_file=\"result.xlsx\"):\n",
    "    file = xlrd.open_workbook(source_file)\n",
    "    shutil.copy(source_file, destenation_file)\n",
    "    grabs = pd.DataFrame()\n",
    "    kohren = pd.DataFrame()\n",
    "    with pd.ExcelWriter(path=destenation_file, mode=\"w\") as writer:\n",
    "        for name in file.sheet_names():\n",
    "            print(\"working with seet> \", name)\n",
    "            data = pd.read_excel(source_file, sheet_name=name)\n",
    "            data[\"std\"]= func_std(data)\n",
    "            data[\"mean\"]= func_mean(data)            \n",
    "            data[\"kohr\"]= func_kohr(data)\n",
    "            \n",
    "            kohren[name]=func_kohr(data)\n",
    "            grabs[name]=func_mean(data)\n",
    "            \n",
    "            data = data.set_index(\"lvl\")            \n",
    "            data.to_excel(excel_writer=writer,sheet_name=name)        \n",
    "#         print(kohren)\n",
    "        #print(kohren.loc[0].max()/kohren.loc[0].sum())\n",
    "#         k = pd.DataFrame()\n",
    "#         print(kohren.columns)\n",
    "#             for index in kohren.index:\n",
    "#                 k[\"lvl\"+index] = \n",
    "    #print(\"Done!\")"
   ]
  },
  {
   "cell_type": "code",
   "execution_count": 45,
   "metadata": {},
   "outputs": [
    {
     "name": "stdout",
     "output_type": "stream",
     "text": [
      "working with seet>  lab1\n",
      "working with seet>  lab2\n",
      "working with seet>  lab3\n",
      "working with seet>  lab4\n"
     ]
    }
   ],
   "source": [
    "calculations()"
   ]
  },
  {
   "cell_type": "code",
   "execution_count": null,
   "metadata": {},
   "outputs": [],
   "source": []
  }
 ],
 "metadata": {
  "kernelspec": {
   "display_name": "Python 3",
   "language": "python",
   "name": "python3"
  },
  "language_info": {
   "codemirror_mode": {
    "name": "ipython",
    "version": 3
   },
   "file_extension": ".py",
   "mimetype": "text/x-python",
   "name": "python",
   "nbconvert_exporter": "python",
   "pygments_lexer": "ipython3",
   "version": "3.7.5"
  }
 },
 "nbformat": 4,
 "nbformat_minor": 2
}
