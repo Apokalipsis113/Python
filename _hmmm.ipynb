{
 "cells": [
  {
   "cell_type": "code",
   "execution_count": 27,
   "metadata": {},
   "outputs": [],
   "source": [
    "import numpy as np\n",
    "import pandas as pd"
   ]
  },
  {
   "cell_type": "code",
   "execution_count": 45,
   "metadata": {},
   "outputs": [],
   "source": [
    "f = pd.read_excel('rec.xlsx',sheet_name='Лист1')"
   ]
  },
  {
   "cell_type": "code",
   "execution_count": 46,
   "metadata": {},
   "outputs": [
    {
     "data": {
      "text/html": [
       "<div>\n",
       "<style scoped>\n",
       "    .dataframe tbody tr th:only-of-type {\n",
       "        vertical-align: middle;\n",
       "    }\n",
       "\n",
       "    .dataframe tbody tr th {\n",
       "        vertical-align: top;\n",
       "    }\n",
       "\n",
       "    .dataframe thead th {\n",
       "        text-align: right;\n",
       "    }\n",
       "</style>\n",
       "<table border=\"1\" class=\"dataframe\">\n",
       "  <thead>\n",
       "    <tr style=\"text-align: right;\">\n",
       "      <th></th>\n",
       "      <th>Название</th>\n",
       "      <th>Описание</th>\n",
       "      <th>Время приготовления</th>\n",
       "      <th>Ингридиенты</th>\n",
       "      <th>Рецепт</th>\n",
       "    </tr>\n",
       "  </thead>\n",
       "  <tbody>\n",
       "    <tr>\n",
       "      <th>0</th>\n",
       "      <td>Поняшный маффин</td>\n",
       "      <td>Маффин из радужного пони</td>\n",
       "      <td>5 минут</td>\n",
       "      <td>Пони 1 шт.</td>\n",
       "      <td>Засунуть пони в понимолку… PROFIT!!!</td>\n",
       "    </tr>\n",
       "    <tr>\n",
       "      <th>1</th>\n",
       "      <td>Пониные кусочки</td>\n",
       "      <td>Свежежареная радужная понятина</td>\n",
       "      <td>1 минут</td>\n",
       "      <td>Пони 1 шт.</td>\n",
       "      <td>Привязать к чеке гранаты веровку. Засунуть гра...</td>\n",
       "    </tr>\n",
       "  </tbody>\n",
       "</table>\n",
       "</div>"
      ],
      "text/plain": [
       "          Название                        Описание Время приготовления  \\\n",
       "0  Поняшный маффин        Маффин из радужного пони             5 минут   \n",
       "1  Пониные кусочки  Свежежареная радужная понятина             1 минут   \n",
       "\n",
       "  Ингридиенты                                             Рецепт  \n",
       "0  Пони 1 шт.               Засунуть пони в понимолку… PROFIT!!!  \n",
       "1  Пони 1 шт.  Привязать к чеке гранаты веровку. Засунуть гра...  "
      ]
     },
     "execution_count": 46,
     "metadata": {},
     "output_type": "execute_result"
    }
   ],
   "source": [
    "f"
   ]
  },
  {
   "cell_type": "code",
   "execution_count": 47,
   "metadata": {},
   "outputs": [
    {
     "data": {
      "text/plain": [
       "0    Поняшный маффин\n",
       "1    Пониные кусочки\n",
       "Name: Название, dtype: object"
      ]
     },
     "execution_count": 47,
     "metadata": {},
     "output_type": "execute_result"
    }
   ],
   "source": [
    "f['Название']"
   ]
  },
  {
   "cell_type": "code",
   "execution_count": null,
   "metadata": {},
   "outputs": [],
   "source": []
  },
  {
   "cell_type": "code",
   "execution_count": null,
   "metadata": {},
   "outputs": [],
   "source": []
  }
 ],
 "metadata": {
  "kernelspec": {
   "display_name": "Python 3",
   "language": "python",
   "name": "python3"
  },
  "language_info": {
   "codemirror_mode": {
    "name": "ipython",
    "version": 3
   },
   "file_extension": ".py",
   "mimetype": "text/x-python",
   "name": "python",
   "nbconvert_exporter": "python",
   "pygments_lexer": "ipython3",
   "version": "3.7.3"
  }
 },
 "nbformat": 4,
 "nbformat_minor": 2
}
