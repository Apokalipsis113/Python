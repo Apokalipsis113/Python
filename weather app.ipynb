{
 "cells": [
  {
   "cell_type": "code",
   "execution_count": 1,
   "metadata": {},
   "outputs": [],
   "source": [
    "import tkinter as tk\n",
    "import requests "
   ]
  },
  {
   "cell_type": "code",
   "execution_count": 2,
   "metadata": {},
   "outputs": [],
   "source": [
    "#api.openweathermap.org/data/2.5/forecast?q={city name},{country code} request string from documentation\n",
    "def get_weather(city):\n",
    "    \"\"\"get weather for city via api openweathermap.org\"\"\"\n",
    "    #file token holding token string for api\n",
    "    file = open('token','r')\n",
    "    weather_key = file.read()\n",
    "    file.close()\n",
    "    \n",
    "    url = 'https://api.openweathermap.org/data/2.5/weather'\n",
    "    params = {'APPID': weather_key, 'q': city, 'units': 'Metric'}\n",
    "    response = requests.get(url, params=params)\n",
    "    weather = response.json()"
   ]
  },
  {
   "cell_type": "code",
   "execution_count": 3,
   "metadata": {},
   "outputs": [],
   "source": [
    "root = tk.Tk()"
   ]
  },
  {
   "cell_type": "code",
   "execution_count": 4,
   "metadata": {},
   "outputs": [],
   "source": [
    "HEIGHT = 500\n",
    "WIDTH = 600\n",
    "canvas = tk.Canvas(root,height=HEIGHT,width=WIDTH)\n",
    "canvas.pack()"
   ]
  },
  {
   "cell_type": "code",
   "execution_count": 5,
   "metadata": {},
   "outputs": [],
   "source": [
    "bg_file = tk.PhotoImage(file='bg_image.png')\n",
    "bg_label = tk.Label(root,image=bg_file)\n",
    "bg_label.place(relwidth=1,relheight=1)"
   ]
  },
  {
   "cell_type": "code",
   "execution_count": 6,
   "metadata": {},
   "outputs": [],
   "source": [
    "frame = tk.Frame(root,bg='#80c1ff',bd=5)\n",
    "frame.place(relx=0.5,rely=0.1,relwidth=0.75,relheight=0.1,anchor='n')\n",
    "\n",
    "button = tk.Button(frame,text=\"Get Weather\",bg='gray',font=40,command=lambda: get_weather(entry.get()))\n",
    "button.place(relx=0.7,relwidth=0.3,relheight=1)\n",
    "\n",
    "entry = tk.Entry(frame,font=40)\n",
    "entry.place(relwidth=0.65,relheight=1)"
   ]
  },
  {
   "cell_type": "code",
   "execution_count": 7,
   "metadata": {},
   "outputs": [],
   "source": [
    "lower_frame = tk.Frame(root,bg='#80c1ff',bd=5)\n",
    "lower_frame.place(relx=0.5,rely=0.25,relwidth=0.75,relheight=0.6,anchor='n')\n",
    "\n",
    "label = tk.Label(lower_frame)\n",
    "label.place(relwidth=1,relheight=1)"
   ]
  },
  {
   "cell_type": "code",
   "execution_count": null,
   "metadata": {},
   "outputs": [],
   "source": []
  },
  {
   "cell_type": "code",
   "execution_count": 8,
   "metadata": {},
   "outputs": [],
   "source": [
    "root.mainloop()"
   ]
  }
 ],
 "metadata": {
  "kernelspec": {
   "display_name": "Python 3",
   "language": "python",
   "name": "python3"
  },
  "language_info": {
   "codemirror_mode": {
    "name": "ipython",
    "version": 3
   },
   "file_extension": ".py",
   "mimetype": "text/x-python",
   "name": "python",
   "nbconvert_exporter": "python",
   "pygments_lexer": "ipython3",
   "version": "3.7.3"
  }
 },
 "nbformat": 4,
 "nbformat_minor": 2
}
