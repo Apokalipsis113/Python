{
 "cells": [
  {
   "cell_type": "code",
   "execution_count": 2,
   "metadata": {},
   "outputs": [],
   "source": [
    "import string\n",
    "import random\n",
    "import os\n",
    "import numpy as np\n",
    "import re\n",
    "from keras.preprocessing.text import Tokenizer"
   ]
  },
  {
   "cell_type": "code",
   "execution_count": 4,
   "metadata": {},
   "outputs": [],
   "source": [
    "def make_reuters_dataset(path=os.path.join('reuters21578'), min_samples_per_topic=15):\n",
    "\n",
    "    wire_topics = []\n",
    "    topic_counts = {}\n",
    "    wire_bodies = []\n",
    "\n",
    "    for fname in sorted(os.listdir(path)):\n",
    "        if 'sgm' in fname:\n",
    "            s = open(os.path.join(path, fname)).read()\n",
    "            tag = '<TOPICS>'\n",
    "            while tag in s:\n",
    "                s = s[s.find(tag)+len(tag):]\n",
    "                topics = s[:s.find('</')]\n",
    "                if topics and '</D><D>' not in topics:\n",
    "                    topic = topics.replace('<D>', '').replace('</D>', '')\n",
    "                    wire_topics.append(topic)\n",
    "                    topic_counts[topic] = topic_counts.get(topic, 0) + 1\n",
    "                else:\n",
    "                    continue\n",
    "\n",
    "                bodytag = '<BODY>'\n",
    "                body = s[s.find(bodytag)+len(bodytag):]\n",
    "                body = body[:body.find('</')]\n",
    "                wire_bodies.append(body)\n",
    "\n",
    "    # only keep most common topics\n",
    "    items = list(topic_counts.items())\n",
    "    items.sort(key=lambda x: x[1])\n",
    "    kept_topics = set()\n",
    "    for x in items:\n",
    "        print(x[0] + ': ' + str(x[1]))\n",
    "        if x[1] >= min_samples_per_topic:\n",
    "            kept_topics.add(x[0])\n",
    "    print('-')\n",
    "    print('Kept topics:', len(kept_topics))\n",
    "    \n",
    "    # filter wires with rare topics\n",
    "    kept_wires = []\n",
    "    labels = []\n",
    "    topic_indexes = {}\n",
    "    for t, b in zip(wire_topics, wire_bodies):\n",
    "        if t in kept_topics:\n",
    "            if t not in topic_indexes:\n",
    "                topic_index = len(topic_indexes)\n",
    "                topic_indexes[t] = topic_index\n",
    "            else:\n",
    "                topic_index = topic_indexes[t]\n",
    "\n",
    "            labels.append(topic_index)\n",
    "            kept_wires.append(b)\n",
    "\n",
    "    print('Kept wires:', len(kept_wires))\n",
    "    print('-')\n",
    "    print('Topic mapping:', sorted(topic_indexes.items(), key=lambda x:x[1]))\n",
    "    print('-')\n",
    "\n",
    "    # vectorize wires\n",
    "    tokenizer = Tokenizer()\n",
    "    tokenizer.fit_on_texts(kept_wires)\n",
    "    X = tokenizer.texts_to_sequences(kept_wires)\n",
    "\n",
    "    print('Sanity check:')\n",
    "    for w in [\"banana\", \"oil\", \"chocolate\", \"the\", \"dsft\"]:\n",
    "        print('...index of', w, ':', tokenizer.word_index.get(w))\n",
    "    print('text reconstruction:')\n",
    "    reverse_word_index = dict([(v, k) for k, v in tokenizer.word_index.items()])\n",
    "    print(' '.join(reverse_word_index[i] for i in X[10]))\n",
    "\n",
    "    dataset = (X, labels)\n",
    "    print('-')"
   ]
  },
  {
   "cell_type": "code",
   "execution_count": null,
   "metadata": {},
   "outputs": [],
   "source": [
    "\n",
    "if __name__ == \"__main__\":\n",
    "    make_reuters_dataset()"
   ]
  }
 ],
 "metadata": {
  "kernelspec": {
   "display_name": "Python 3",
   "language": "python",
   "name": "python3"
  },
  "language_info": {
   "codemirror_mode": {
    "name": "ipython",
    "version": 3
   },
   "file_extension": ".py",
   "mimetype": "text/x-python",
   "name": "python",
   "nbconvert_exporter": "python",
   "pygments_lexer": "ipython3",
   "version": "3.7.3"
  }
 },
 "nbformat": 4,
 "nbformat_minor": 2
}
