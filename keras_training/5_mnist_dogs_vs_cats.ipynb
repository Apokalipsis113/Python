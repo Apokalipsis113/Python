{
 "cells": [
  {
   "cell_type": "code",
   "execution_count": 34,
   "metadata": {},
   "outputs": [],
   "source": [
    "from keras import layers\n",
    "from keras import models\n",
    "from keras.datasets import mnist\n",
    "import numpy as np\n",
    "from keras.utils import to_categorical\n",
    "import os,shutil\n",
    "from keras import optimizers\n",
    "from keras.preprocessing import image\n",
    "import matplotlib.pyplot as plt\n",
    "import seaborn as sns; sns.set()"
   ]
  },
  {
   "cell_type": "code",
   "execution_count": 2,
   "metadata": {},
   "outputs": [
    {
     "name": "stdout",
     "output_type": "stream",
     "text": [
      "WARNING:tensorflow:From C:\\Users\\serge\\Anaconda3\\envs\\KerasEnv\\lib\\site-packages\\tensorflow\\python\\framework\\op_def_library.py:263: colocate_with (from tensorflow.python.framework.ops) is deprecated and will be removed in a future version.\n",
      "Instructions for updating:\n",
      "Colocations handled automatically by placer.\n"
     ]
    }
   ],
   "source": [
    "#building model for work with images of numbers\n",
    "model = models.Sequential()\n",
    "model.add(layers.Conv2D(32,(3,3),activation='relu',input_shape=(28,28,1)))\n",
    "model.add(layers.MaxPooling2D((2,2)))\n",
    "model.add(layers.Conv2D(64,(3,3),activation='relu'))\n",
    "model.add(layers.MaxPooling2D((2,2)))\n",
    "model.add(layers.Conv2D(64,(3,3),activation='relu'))"
   ]
  },
  {
   "cell_type": "code",
   "execution_count": 3,
   "metadata": {},
   "outputs": [
    {
     "name": "stdout",
     "output_type": "stream",
     "text": [
      "_________________________________________________________________\n",
      "Layer (type)                 Output Shape              Param #   \n",
      "=================================================================\n",
      "conv2d_1 (Conv2D)            (None, 26, 26, 32)        320       \n",
      "_________________________________________________________________\n",
      "max_pooling2d_1 (MaxPooling2 (None, 13, 13, 32)        0         \n",
      "_________________________________________________________________\n",
      "conv2d_2 (Conv2D)            (None, 11, 11, 64)        18496     \n",
      "_________________________________________________________________\n",
      "max_pooling2d_2 (MaxPooling2 (None, 5, 5, 64)          0         \n",
      "_________________________________________________________________\n",
      "conv2d_3 (Conv2D)            (None, 3, 3, 64)          36928     \n",
      "=================================================================\n",
      "Total params: 55,744\n",
      "Trainable params: 55,744\n",
      "Non-trainable params: 0\n",
      "_________________________________________________________________\n"
     ]
    }
   ],
   "source": [
    "model.summary()"
   ]
  },
  {
   "cell_type": "code",
   "execution_count": 4,
   "metadata": {},
   "outputs": [],
   "source": [
    "#adding classification above network\n",
    "model.add(layers.Flatten())\n",
    "model.add(layers.Dense(64,activation='relu'))\n",
    "model.add(layers.Dense(10,activation='softmax'))"
   ]
  },
  {
   "cell_type": "code",
   "execution_count": 5,
   "metadata": {},
   "outputs": [
    {
     "name": "stdout",
     "output_type": "stream",
     "text": [
      "_________________________________________________________________\n",
      "Layer (type)                 Output Shape              Param #   \n",
      "=================================================================\n",
      "conv2d_1 (Conv2D)            (None, 26, 26, 32)        320       \n",
      "_________________________________________________________________\n",
      "max_pooling2d_1 (MaxPooling2 (None, 13, 13, 32)        0         \n",
      "_________________________________________________________________\n",
      "conv2d_2 (Conv2D)            (None, 11, 11, 64)        18496     \n",
      "_________________________________________________________________\n",
      "max_pooling2d_2 (MaxPooling2 (None, 5, 5, 64)          0         \n",
      "_________________________________________________________________\n",
      "conv2d_3 (Conv2D)            (None, 3, 3, 64)          36928     \n",
      "_________________________________________________________________\n",
      "flatten_1 (Flatten)          (None, 576)               0         \n",
      "_________________________________________________________________\n",
      "dense_1 (Dense)              (None, 64)                36928     \n",
      "_________________________________________________________________\n",
      "dense_2 (Dense)              (None, 10)                650       \n",
      "=================================================================\n",
      "Total params: 93,322\n",
      "Trainable params: 93,322\n",
      "Non-trainable params: 0\n",
      "_________________________________________________________________\n"
     ]
    }
   ],
   "source": [
    "model.summary()"
   ]
  },
  {
   "cell_type": "code",
   "execution_count": 6,
   "metadata": {},
   "outputs": [],
   "source": [
    "(train_images, train_labels), (test_images, test_labels) = mnist.load_data() "
   ]
  },
  {
   "cell_type": "code",
   "execution_count": 7,
   "metadata": {},
   "outputs": [],
   "source": [
    "train_images = train_images.reshape((60000,28,28,1))\n",
    "train_images = train_images.astype('float32')/255"
   ]
  },
  {
   "cell_type": "code",
   "execution_count": 8,
   "metadata": {},
   "outputs": [],
   "source": [
    "test_images = test_images.reshape((10000,28,28,1))\n",
    "test_images = test_images.astype('float32')/255"
   ]
  },
  {
   "cell_type": "code",
   "execution_count": 9,
   "metadata": {},
   "outputs": [],
   "source": [
    "train_labels = to_categorical(train_labels)\n",
    "test_labels = to_categorical(test_labels)"
   ]
  },
  {
   "cell_type": "code",
   "execution_count": 10,
   "metadata": {},
   "outputs": [
    {
     "name": "stdout",
     "output_type": "stream",
     "text": [
      "WARNING:tensorflow:From C:\\Users\\serge\\Anaconda3\\envs\\KerasEnv\\lib\\site-packages\\tensorflow\\python\\ops\\math_ops.py:3066: to_int32 (from tensorflow.python.ops.math_ops) is deprecated and will be removed in a future version.\n",
      "Instructions for updating:\n",
      "Use tf.cast instead.\n",
      "Epoch 1/5\n",
      "60000/60000 [==============================] - 12s 207us/step - loss: 0.1708 - acc: 0.9470\n",
      "Epoch 2/5\n",
      "60000/60000 [==============================] - 7s 114us/step - loss: 0.0466 - acc: 0.9859\n",
      "Epoch 3/5\n",
      "60000/60000 [==============================] - 7s 112us/step - loss: 0.0331 - acc: 0.9899\n",
      "Epoch 4/5\n",
      "60000/60000 [==============================] - 7s 112us/step - loss: 0.0246 - acc: 0.9929\n",
      "Epoch 5/5\n",
      "60000/60000 [==============================] - 7s 112us/step - loss: 0.0198 - acc: 0.9938\n"
     ]
    },
    {
     "data": {
      "text/plain": [
       "<keras.callbacks.History at 0x22f86af8630>"
      ]
     },
     "execution_count": 10,
     "metadata": {},
     "output_type": "execute_result"
    }
   ],
   "source": [
    "model.compile(optimizer='rmsprop',\n",
    "             loss='categorical_crossentropy',\n",
    "             metrics=['accuracy'])\n",
    "model.fit(train_images,train_labels,epochs=5,batch_size=64)"
   ]
  },
  {
   "cell_type": "code",
   "execution_count": 11,
   "metadata": {},
   "outputs": [
    {
     "name": "stdout",
     "output_type": "stream",
     "text": [
      "10000/10000 [==============================] - 1s 66us/step\n"
     ]
    },
    {
     "data": {
      "text/plain": [
       "0.9885"
      ]
     },
     "execution_count": 11,
     "metadata": {},
     "output_type": "execute_result"
    }
   ],
   "source": [
    "test_loss, test_acc = model.evaluate(test_images, test_labels)\n",
    "test_acc"
   ]
  },
  {
   "cell_type": "code",
   "execution_count": 12,
   "metadata": {},
   "outputs": [
    {
     "name": "stdout",
     "output_type": "stream",
     "text": [
      "_________________________________________________________________\n",
      "Layer (type)                 Output Shape              Param #   \n",
      "=================================================================\n",
      "conv2d_4 (Conv2D)            (None, 26, 26, 32)        320       \n",
      "_________________________________________________________________\n",
      "conv2d_5 (Conv2D)            (None, 24, 24, 64)        18496     \n",
      "_________________________________________________________________\n",
      "conv2d_6 (Conv2D)            (None, 22, 22, 64)        36928     \n",
      "=================================================================\n",
      "Total params: 55,744\n",
      "Trainable params: 55,744\n",
      "Non-trainable params: 0\n",
      "_________________________________________________________________\n"
     ]
    }
   ],
   "source": [
    "model_no_max_pool = models.Sequential()\n",
    "model_no_max_pool.add(layers.Conv2D(32,(3,3),activation='relu',input_shape=(28,28,1)))\n",
    "model_no_max_pool.add(layers.Conv2D(64,(3,3),activation='relu'))\n",
    "model_no_max_pool.add(layers.Conv2D(64,(3,3),activation='relu'))\n",
    "model_no_max_pool.summary()"
   ]
  },
  {
   "cell_type": "code",
   "execution_count": 14,
   "metadata": {},
   "outputs": [],
   "source": [
    "#creating directories for files\n",
    "original_data_dir = 'C:/Python/keras_training/dogs-vs-cats/source/train'\n",
    "base_dir = 'C:/Python/keras_training/dogs-vs-cats/dogs-vs-cats_small'\n",
    "os.mkdir(base_dir)\n",
    "\n",
    "train_dir = os.path.join(base_dir,'train')\n",
    "os.mkdir(train_dir)\n",
    "validation_dir = os.path.join(base_dir,'validation')\n",
    "os.mkdir(validation_dir)\n",
    "test_dir = os.path.join(base_dir,'test')\n",
    "os.mkdir(test_dir)\n",
    "\n",
    "train_cats_dir = os.path.join(train_dir,'cats')\n",
    "os.mkdir(train_cats_dir)\n",
    "train_dogs_dir = os.path.join(train_dir,'dogs')\n",
    "os.mkdir(train_dogs_dir)\n",
    "\n",
    "validation_cats_dir = os.path.join(validation_dir,'cats')\n",
    "os.mkdir(validation_cats_dir)\n",
    "validation_dogs_dir = os.path.join(validation_dir,'dogs')\n",
    "os.mkdir(validation_dogs_dir)\n",
    "\n",
    "test_cats_dir = os.path.join(test_dir,'cats')\n",
    "os.mkdir(test_cats_dir)\n",
    "test_dogs_dir = os.path.join(test_dir,'dogs')\n",
    "os.mkdir(test_dogs_dir)"
   ]
  },
  {
   "cell_type": "code",
   "execution_count": 15,
   "metadata": {},
   "outputs": [],
   "source": [
    "fnames = ['cat.{}.jpg'.format(i) for i in range(1000)]\n",
    "for fname in fnames:\n",
    "    src = os.path.join(original_data_dir,fname)\n",
    "    dst = os.path.join(train_cats_dir,fname)\n",
    "    shutil.copyfile(src,dst)"
   ]
  },
  {
   "cell_type": "code",
   "execution_count": 16,
   "metadata": {},
   "outputs": [],
   "source": [
    "fnames = ['cat.{}.jpg'.format(i) for i in range(1000,1500)]\n",
    "for fname in fnames:\n",
    "    src = os.path.join(original_data_dir,fname)\n",
    "    dst = os.path.join(validation_cats_dir,fname)\n",
    "    shutil.copyfile(src,dst)"
   ]
  },
  {
   "cell_type": "code",
   "execution_count": 17,
   "metadata": {},
   "outputs": [],
   "source": [
    "fnames = ['cat.{}.jpg'.format(i) for i in range(1500,2000)]\n",
    "for fname in fnames:\n",
    "    src = os.path.join(original_data_dir,fname)\n",
    "    dst = os.path.join(test_cats_dir,fname)\n",
    "    shutil.copyfile(src,dst)"
   ]
  },
  {
   "cell_type": "code",
   "execution_count": 18,
   "metadata": {},
   "outputs": [],
   "source": [
    "fnames = ['dog.{}.jpg'.format(i) for i in range(1000)]\n",
    "for fname in fnames:\n",
    "    src = os.path.join(original_data_dir,fname)\n",
    "    dst = os.path.join(train_dogs_dir,fname)\n",
    "    shutil.copyfile(src,dst)"
   ]
  },
  {
   "cell_type": "code",
   "execution_count": 19,
   "metadata": {},
   "outputs": [],
   "source": [
    "fnames = ['dog.{}.jpg'.format(i) for i in range(1000,1500)]\n",
    "for fname in fnames:\n",
    "    src = os.path.join(original_data_dir,fname)\n",
    "    dst = os.path.join(validation_dogs_dir,fname)\n",
    "    shutil.copyfile(src,dst)"
   ]
  },
  {
   "cell_type": "code",
   "execution_count": 20,
   "metadata": {},
   "outputs": [],
   "source": [
    "fnames = ['cat.{}.jpg'.format(i) for i in range(1500,2000)]\n",
    "for fname in fnames:\n",
    "    src = os.path.join(original_data_dir,fname)\n",
    "    dst = os.path.join(test_dogs_dir,fname)\n",
    "    shutil.copyfile(src,dst)"
   ]
  },
  {
   "cell_type": "code",
   "execution_count": 23,
   "metadata": {},
   "outputs": [],
   "source": [
    "model = models.Sequential()\n",
    "model.add(layers.Conv2D(32,(3,3),activation='relu',input_shape=(150,150,3)))\n",
    "model.add(layers.MaxPooling2D((2,2)))\n",
    "model.add(layers.Conv2D(64,(3,3),activation='relu'))\n",
    "model.add(layers.MaxPooling2D((2,2)))\n",
    "model.add(layers.Conv2D(128,(3,3),activation='relu'))\n",
    "model.add(layers.MaxPooling2D((2,2)))\n",
    "model.add(layers.Conv2D(128,(3,3),activation='relu'))\n",
    "model.add(layers.MaxPooling2D((2,2)))\n",
    "model.add(layers.Flatten())\n",
    "model.add(layers.Dense(512,activation='relu'))\n",
    "model.add(layers.Dense(1,activation='sigmoid'))"
   ]
  },
  {
   "cell_type": "code",
   "execution_count": 24,
   "metadata": {},
   "outputs": [
    {
     "name": "stdout",
     "output_type": "stream",
     "text": [
      "_________________________________________________________________\n",
      "Layer (type)                 Output Shape              Param #   \n",
      "=================================================================\n",
      "conv2d_10 (Conv2D)           (None, 148, 148, 32)      896       \n",
      "_________________________________________________________________\n",
      "max_pooling2d_6 (MaxPooling2 (None, 74, 74, 32)        0         \n",
      "_________________________________________________________________\n",
      "conv2d_11 (Conv2D)           (None, 72, 72, 64)        18496     \n",
      "_________________________________________________________________\n",
      "max_pooling2d_7 (MaxPooling2 (None, 36, 36, 64)        0         \n",
      "_________________________________________________________________\n",
      "conv2d_12 (Conv2D)           (None, 34, 34, 128)       73856     \n",
      "_________________________________________________________________\n",
      "max_pooling2d_8 (MaxPooling2 (None, 17, 17, 128)       0         \n",
      "_________________________________________________________________\n",
      "conv2d_13 (Conv2D)           (None, 15, 15, 128)       147584    \n",
      "_________________________________________________________________\n",
      "max_pooling2d_9 (MaxPooling2 (None, 7, 7, 128)         0         \n",
      "_________________________________________________________________\n",
      "flatten_3 (Flatten)          (None, 6272)              0         \n",
      "_________________________________________________________________\n",
      "dense_5 (Dense)              (None, 512)               3211776   \n",
      "_________________________________________________________________\n",
      "dense_6 (Dense)              (None, 1)                 513       \n",
      "=================================================================\n",
      "Total params: 3,453,121\n",
      "Trainable params: 3,453,121\n",
      "Non-trainable params: 0\n",
      "_________________________________________________________________\n"
     ]
    }
   ],
   "source": [
    "model.summary()"
   ]
  },
  {
   "cell_type": "code",
   "execution_count": 26,
   "metadata": {},
   "outputs": [],
   "source": [
    "model.compile(loss='binary_crossentropy',optimizer=optimizers.RMSprop(lr=1e-4),metrics=['acc'])"
   ]
  },
  {
   "cell_type": "code",
   "execution_count": 28,
   "metadata": {},
   "outputs": [],
   "source": [
    "#creating tensors for network from images\n",
    "train_datagen = image.ImageDataGenerator(rescale=1./255)\n",
    "test_datagen = image.ImageDataGenerator(rescale=1./255)"
   ]
  },
  {
   "cell_type": "code",
   "execution_count": 30,
   "metadata": {},
   "outputs": [
    {
     "name": "stdout",
     "output_type": "stream",
     "text": [
      "Found 2000 images belonging to 2 classes.\n",
      "Found 1000 images belonging to 2 classes.\n"
     ]
    }
   ],
   "source": [
    "train_generator = train_datagen.flow_from_directory(train_dir,target_size=(150,150),batch_size=20,class_mode='binary')\n",
    "validation_generator = test_datagen.flow_from_directory(validation_dir,target_size=(150,150),batch_size=20,class_mode='binary')"
   ]
  },
  {
   "cell_type": "code",
   "execution_count": 32,
   "metadata": {},
   "outputs": [
    {
     "name": "stdout",
     "output_type": "stream",
     "text": [
      "Epoch 1/30\n",
      "100/100 [==============================] - 12s 118ms/step - loss: 0.6885 - acc: 0.5335 - val_loss: 0.6782 - val_acc: 0.5190\n",
      "Epoch 2/30\n",
      "100/100 [==============================] - 7s 74ms/step - loss: 0.6541 - acc: 0.6175 - val_loss: 0.6427 - val_acc: 0.6210\n",
      "Epoch 3/30\n",
      "100/100 [==============================] - 7s 74ms/step - loss: 0.6109 - acc: 0.6710 - val_loss: 0.6310 - val_acc: 0.6220\n",
      "Epoch 4/30\n",
      "100/100 [==============================] - 7s 74ms/step - loss: 0.5631 - acc: 0.7060 - val_loss: 0.5986 - val_acc: 0.6670\n",
      "Epoch 5/30\n",
      "100/100 [==============================] - 7s 74ms/step - loss: 0.5399 - acc: 0.7225 - val_loss: 0.5879 - val_acc: 0.6770\n",
      "Epoch 6/30\n",
      "100/100 [==============================] - 8s 77ms/step - loss: 0.5149 - acc: 0.7495 - val_loss: 0.5889 - val_acc: 0.6780\n",
      "Epoch 7/30\n",
      "100/100 [==============================] - 8s 76ms/step - loss: 0.4898 - acc: 0.7650 - val_loss: 0.5993 - val_acc: 0.6700\n",
      "Epoch 8/30\n",
      "100/100 [==============================] - 18s 183ms/step - loss: 0.4664 - acc: 0.7780 - val_loss: 0.5647 - val_acc: 0.7000\n",
      "Epoch 9/30\n",
      "100/100 [==============================] - 8s 76ms/step - loss: 0.4383 - acc: 0.8015 - val_loss: 0.5834 - val_acc: 0.6990\n",
      "Epoch 10/30\n",
      "100/100 [==============================] - 7s 73ms/step - loss: 0.4199 - acc: 0.7985 - val_loss: 0.5510 - val_acc: 0.7190\n",
      "Epoch 11/30\n",
      "100/100 [==============================] - 7s 73ms/step - loss: 0.3905 - acc: 0.8305 - val_loss: 0.5618 - val_acc: 0.7160\n",
      "Epoch 12/30\n",
      "100/100 [==============================] - 7s 72ms/step - loss: 0.3690 - acc: 0.8425 - val_loss: 0.5722 - val_acc: 0.7140\n",
      "Epoch 13/30\n",
      "100/100 [==============================] - 7s 72ms/step - loss: 0.3427 - acc: 0.8505 - val_loss: 0.5658 - val_acc: 0.7260\n",
      "Epoch 14/30\n",
      "100/100 [==============================] - 7s 72ms/step - loss: 0.3134 - acc: 0.8760 - val_loss: 0.5694 - val_acc: 0.7150\n",
      "Epoch 15/30\n",
      "100/100 [==============================] - 7s 72ms/step - loss: 0.2977 - acc: 0.8850 - val_loss: 0.5616 - val_acc: 0.7310\n",
      "Epoch 16/30\n",
      "100/100 [==============================] - 7s 74ms/step - loss: 0.2780 - acc: 0.8825 - val_loss: 0.5565 - val_acc: 0.7360\n",
      "Epoch 17/30\n",
      "100/100 [==============================] - 7s 74ms/step - loss: 0.2546 - acc: 0.9045 - val_loss: 0.5609 - val_acc: 0.7350\n",
      "Epoch 18/30\n",
      "100/100 [==============================] - 7s 73ms/step - loss: 0.2274 - acc: 0.9125 - val_loss: 0.6234 - val_acc: 0.7360\n",
      "Epoch 19/30\n",
      "100/100 [==============================] - 7s 73ms/step - loss: 0.2173 - acc: 0.9115 - val_loss: 0.6899 - val_acc: 0.7250\n",
      "Epoch 20/30\n",
      "100/100 [==============================] - 7s 73ms/step - loss: 0.1966 - acc: 0.9210 - val_loss: 0.6130 - val_acc: 0.7360\n",
      "Epoch 21/30\n",
      "100/100 [==============================] - 7s 73ms/step - loss: 0.1720 - acc: 0.9410 - val_loss: 0.6228 - val_acc: 0.7410\n",
      "Epoch 22/30\n",
      "100/100 [==============================] - 7s 72ms/step - loss: 0.1583 - acc: 0.9480 - val_loss: 0.7084 - val_acc: 0.7200\n",
      "Epoch 23/30\n",
      "100/100 [==============================] - 7s 73ms/step - loss: 0.1410 - acc: 0.9555 - val_loss: 0.8892 - val_acc: 0.6950\n",
      "Epoch 24/30\n",
      "100/100 [==============================] - 7s 72ms/step - loss: 0.1334 - acc: 0.9515 - val_loss: 0.7440 - val_acc: 0.7290\n",
      "Epoch 25/30\n",
      "100/100 [==============================] - 7s 71ms/step - loss: 0.1118 - acc: 0.9635 - val_loss: 0.7769 - val_acc: 0.7220\n",
      "Epoch 26/30\n",
      "100/100 [==============================] - 7s 71ms/step - loss: 0.0978 - acc: 0.9740 - val_loss: 0.8625 - val_acc: 0.7060\n",
      "Epoch 27/30\n",
      "100/100 [==============================] - 7s 71ms/step - loss: 0.0829 - acc: 0.9760 - val_loss: 1.0781 - val_acc: 0.6930\n",
      "Epoch 28/30\n",
      "100/100 [==============================] - 7s 71ms/step - loss: 0.0742 - acc: 0.9830 - val_loss: 0.9011 - val_acc: 0.7290\n",
      "Epoch 29/30\n",
      "100/100 [==============================] - 7s 71ms/step - loss: 0.0640 - acc: 0.9795 - val_loss: 0.8006 - val_acc: 0.7310\n",
      "Epoch 30/30\n",
      "100/100 [==============================] - 7s 72ms/step - loss: 0.0505 - acc: 0.9905 - val_loss: 0.8925 - val_acc: 0.7380\n"
     ]
    }
   ],
   "source": [
    "history = model.fit_generator(train_generator,\n",
    "                             steps_per_epoch=100,\n",
    "                             epochs=30,\n",
    "                             validation_data=validation_generator,\n",
    "                             validation_steps=50)"
   ]
  },
  {
   "cell_type": "code",
   "execution_count": 33,
   "metadata": {},
   "outputs": [],
   "source": [
    "#saving model to file\n",
    "model.save('cats_vs_dogs_small_1.h5')"
   ]
  },
  {
   "cell_type": "code",
   "execution_count": 35,
   "metadata": {},
   "outputs": [],
   "source": [
    "acc = history.history['acc']\n",
    "val_acc = history.history['val_acc']\n",
    "loss = history.history['loss']\n",
    "val_loss = history.history['val_loss']"
   ]
  },
  {
   "cell_type": "code",
   "execution_count": 38,
   "metadata": {},
   "outputs": [
    {
     "data": {
      "image/png": "[encoded data removed]",
      "text/plain": [
       "<Figure size 432x288 with 1 Axes>"
      ]
     },
     "metadata": {
      "needs_background": "light"
     },
     "output_type": "display_data"
    },
    {
     "data": {
      "image/png": "[encoded data removed]",
      "text/plain": [
       "<Figure size 432x288 with 1 Axes>"
      ]
     },
     "metadata": {
      "needs_background": "light"
     },
     "output_type": "display_data"
    }
   ],
   "source": [
    "epochs = range(1,len(acc) + 1)\n",
    "plt.plot(epochs,acc,'bo',label='Training accuracy')\n",
    "plt.plot(epochs,val_acc,'b',label='Validation accuracy')\n",
    "plt.title('Training and validation accuracy')\n",
    "plt.legend()\n",
    "plt.figure()\n",
    "plt.plot(epochs,loss,'bo',label='Training loss')\n",
    "plt.plot(epochs,val_loss, 'b',label='Validation loss')\n",
    "plt.title('Training and validation loss')\n",
    "plt.legend();"
   ]
  },
  {
   "cell_type": "code",
   "execution_count": null,
   "metadata": {},
   "outputs": [],
   "source": []
  }
 ],
 "metadata": {
  "kernelspec": {
   "display_name": "Python 3",
   "language": "python",
   "name": "python3"
  },
  "language_info": {
   "codemirror_mode": {
    "name": "ipython",
    "version": 3
   },
   "file_extension": ".py",
   "mimetype": "text/x-python",
   "name": "python",
   "nbconvert_exporter": "python",
   "pygments_lexer": "ipython3",
   "version": "3.7.3"
  }
 },
 "nbformat": 4,
 "nbformat_minor": 2
}
