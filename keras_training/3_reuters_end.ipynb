{
 "cells": [
  {
   "cell_type": "code",
   "execution_count": 42,
   "metadata": {},
   "outputs": [],
   "source": [
    "from keras.datasets import reuters\n",
    "import numpy as np\n",
    "from keras.utils.np_utils import to_categorical\n",
    "from keras import models\n",
    "from keras import layers\n",
    "import copy\n",
    "import matplotlib.pyplot as plt\n",
    "import seaborn as sns; sns.set()"
   ]
  },
  {
   "cell_type": "code",
   "execution_count": 2,
   "metadata": {},
   "outputs": [],
   "source": [
    "#chaged in \\Lib\\site-packages\\keras\\datasets\\reuters.py  \n",
    "#from\n",
    "#np.load(path) as f:\n",
    "#to\n",
    "#with np.load(path, allow_pickle=True) as f:\n",
    "(train_data,trail_labels),(test_data,test_labels) = reuters.load_data(num_words=10000)"
   ]
  },
  {
   "cell_type": "code",
   "execution_count": 4,
   "metadata": {},
   "outputs": [
    {
     "name": "stdout",
     "output_type": "stream",
     "text": [
      "8982\n",
      "2246\n"
     ]
    }
   ],
   "source": [
    "print(len(train_data))\n",
    "print(len(test_data))"
   ]
  },
  {
   "cell_type": "code",
   "execution_count": 7,
   "metadata": {},
   "outputs": [
    {
     "name": "stdout",
     "output_type": "stream",
     "text": [
      "[1, 245, 273, 207, 156, 53, 74, 160, 26, 14, 46, 296, 26, 39, 74, 2979, 3554, 14, 46, 4689, 4329, 86, 61, 3499, 4795, 14, 61, 451, 4329, 17, 12]\n"
     ]
    }
   ],
   "source": [
    "print(train_data[10])"
   ]
  },
  {
   "cell_type": "code",
   "execution_count": 12,
   "metadata": {},
   "outputs": [],
   "source": [
    "#decoding similar to imdb dataset\n",
    "word_index = reuters.get_word_index()\n",
    "reverse_word_index = dict([(value,key) for (key,value) in word_index.items()])\n",
    "decoded_newswire = ' '.join([reverse_word_index.get(i - 3, '?') for i in train_data[0]])"
   ]
  },
  {
   "cell_type": "code",
   "execution_count": 13,
   "metadata": {},
   "outputs": [
    {
     "data": {
      "text/plain": [
       "'? ? ? said as a result of its december acquisition of space co it expects earnings per share in 1987 of 1 15 to 1 30 dlrs per share up from 70 cts in 1986 the company said pretax net should rise to nine to 10 mln dlrs from six mln dlrs in 1986 and rental operation revenues to 19 to 22 mln dlrs from 12 5 mln dlrs it said cash flow per share this year should be 2 50 to three dlrs reuter 3'"
      ]
     },
     "execution_count": 13,
     "metadata": {},
     "output_type": "execute_result"
    }
   ],
   "source": [
    "decoded_newswire"
   ]
  },
  {
   "cell_type": "code",
   "execution_count": 15,
   "metadata": {},
   "outputs": [],
   "source": [
    "#using vectorize_sequences function form imdb notebook copied to vect_seq.py\n",
    "import vect_seq\n",
    "\n",
    "x_train = vect_seq.vectorize_sequences(train_data)\n",
    "x_test = vect_seq.vectorize_sequences(test_data)"
   ]
  },
  {
   "cell_type": "code",
   "execution_count": 23,
   "metadata": {},
   "outputs": [],
   "source": [
    "#same as keras.utils.np_utils to_categorical\n",
    "def to_one_hot (labels, dimension=46):\n",
    "    results = np.zeros((len(labels),dimension))\n",
    "    for i, label in enumerate(labels):\n",
    "        results[i,label] = 1.\n",
    "    return results"
   ]
  },
  {
   "cell_type": "code",
   "execution_count": 24,
   "metadata": {},
   "outputs": [],
   "source": [
    "one_hot_train_labels = to_one_hot(trail_labels)\n",
    "one_hot_test_labels = to_one_hot(test_labels)"
   ]
  },
  {
   "cell_type": "code",
   "execution_count": 29,
   "metadata": {},
   "outputs": [],
   "source": [
    "#same as handmade func to_one_hot\n",
    "one_hot_train_labels = to_categorical(trail_labels)\n",
    "one_hot_test_labels = to_categorical(test_labels)"
   ]
  },
  {
   "cell_type": "code",
   "execution_count": 31,
   "metadata": {},
   "outputs": [
    {
     "name": "stdout",
     "output_type": "stream",
     "text": [
      "WARNING:tensorflow:From C:\\Users\\serge\\Anaconda3\\envs\\KerasEnv\\lib\\site-packages\\tensorflow\\python\\framework\\op_def_library.py:263: colocate_with (from tensorflow.python.framework.ops) is deprecated and will be removed in a future version.\n",
      "Instructions for updating:\n",
      "Colocations handled automatically by placer.\n"
     ]
    }
   ],
   "source": [
    "model = models.Sequential()\n",
    "model.add(layers.Dense(64,activation='relu',input_shape=(10000,))) #numbers of neirons increased form imdb, because output has 46 values\n",
    "model.add(layers.Dense(64,activation='relu'))\n",
    "model.add(layers.Dense(46,activation='softmax')) #big number of results, using softmax is a good choice"
   ]
  },
  {
   "cell_type": "code",
   "execution_count": 33,
   "metadata": {},
   "outputs": [],
   "source": [
    "model.compile(optimizer='rmsprop',\n",
    "             loss='categorical_crossentropy',\n",
    "             metrics=['accuracy'])"
   ]
  },
  {
   "cell_type": "code",
   "execution_count": 34,
   "metadata": {},
   "outputs": [],
   "source": [
    "#creating test sequence\n",
    "x_val = x_train[:1000]\n",
    "partial_x_train = x_train[1000:]\n",
    "y_val = one_hot_train_labels[:1000]\n",
    "partial_y_train = one_hot_train_labels[1000:]"
   ]
  },
  {
   "cell_type": "code",
   "execution_count": 35,
   "metadata": {},
   "outputs": [
    {
     "name": "stdout",
     "output_type": "stream",
     "text": [
      "WARNING:tensorflow:From C:\\Users\\serge\\Anaconda3\\envs\\KerasEnv\\lib\\site-packages\\tensorflow\\python\\ops\\math_ops.py:3066: to_int32 (from tensorflow.python.ops.math_ops) is deprecated and will be removed in a future version.\n",
      "Instructions for updating:\n",
      "Use tf.cast instead.\n",
      "Train on 7982 samples, validate on 1000 samples\n",
      "Epoch 1/20\n",
      "7982/7982 [==============================] - 5s 653us/step - loss: 2.5322 - acc: 0.4955 - val_loss: 1.7208 - val_acc: 0.6120\n",
      "Epoch 2/20\n",
      "7982/7982 [==============================] - 1s 126us/step - loss: 1.4452 - acc: 0.6879 - val_loss: 1.3459 - val_acc: 0.7060\n",
      "Epoch 3/20\n",
      "7982/7982 [==============================] - 1s 113us/step - loss: 1.0953 - acc: 0.7651 - val_loss: 1.1708 - val_acc: 0.7430\n",
      "Epoch 4/20\n",
      "7982/7982 [==============================] - 1s 111us/step - loss: 0.8697 - acc: 0.8165 - val_loss: 1.0793 - val_acc: 0.7590\n",
      "Epoch 5/20\n",
      "7982/7982 [==============================] - 1s 112us/step - loss: 0.7034 - acc: 0.8472 - val_loss: 0.9844 - val_acc: 0.7810\n",
      "Epoch 6/20\n",
      "7982/7982 [==============================] - 1s 115us/step - loss: 0.5667 - acc: 0.8802 - val_loss: 0.9411 - val_acc: 0.8040\n",
      "Epoch 7/20\n",
      "7982/7982 [==============================] - 1s 112us/step - loss: 0.4581 - acc: 0.9048 - val_loss: 0.9083 - val_acc: 0.8020\n",
      "Epoch 8/20\n",
      "7982/7982 [==============================] - 1s 111us/step - loss: 0.3695 - acc: 0.9231 - val_loss: 0.9363 - val_acc: 0.7890\n",
      "Epoch 9/20\n",
      "7982/7982 [==============================] - 1s 109us/step - loss: 0.3032 - acc: 0.9315 - val_loss: 0.8917 - val_acc: 0.8090\n",
      "Epoch 10/20\n",
      "7982/7982 [==============================] - 1s 109us/step - loss: 0.2537 - acc: 0.9414 - val_loss: 0.9071 - val_acc: 0.8110\n",
      "Epoch 11/20\n",
      "7982/7982 [==============================] - 1s 108us/step - loss: 0.2187 - acc: 0.9471 - val_loss: 0.9177 - val_acc: 0.8130\n",
      "Epoch 12/20\n",
      "7982/7982 [==============================] - 1s 112us/step - loss: 0.1873 - acc: 0.9508 - val_loss: 0.9027 - val_acc: 0.8130\n",
      "Epoch 13/20\n",
      "7982/7982 [==============================] - 1s 110us/step - loss: 0.1703 - acc: 0.9521 - val_loss: 0.9323 - val_acc: 0.8110\n",
      "Epoch 14/20\n",
      "7982/7982 [==============================] - 1s 110us/step - loss: 0.1536 - acc: 0.9554 - val_loss: 0.9689 - val_acc: 0.8050\n",
      "Epoch 15/20\n",
      "7982/7982 [==============================] - 1s 109us/step - loss: 0.1390 - acc: 0.9560 - val_loss: 0.9686 - val_acc: 0.8150\n",
      "Epoch 16/20\n",
      "7982/7982 [==============================] - 1s 110us/step - loss: 0.1313 - acc: 0.9560 - val_loss: 1.0220 - val_acc: 0.8060\n",
      "Epoch 17/20\n",
      "7982/7982 [==============================] - 1s 110us/step - loss: 0.1217 - acc: 0.9579 - val_loss: 1.0254 - val_acc: 0.7970\n",
      "Epoch 18/20\n",
      "7982/7982 [==============================] - 1s 108us/step - loss: 0.1198 - acc: 0.9582 - val_loss: 1.0430 - val_acc: 0.8060\n",
      "Epoch 19/20\n",
      "7982/7982 [==============================] - 1s 109us/step - loss: 0.1138 - acc: 0.9597 - val_loss: 1.0955 - val_acc: 0.7970\n",
      "Epoch 20/20\n",
      "7982/7982 [==============================] - 1s 110us/step - loss: 0.1111 - acc: 0.9593 - val_loss: 1.0674 - val_acc: 0.8020\n"
     ]
    }
   ],
   "source": [
    "history = model.fit(partial_x_train,\n",
    "                   partial_y_train,\n",
    "                   epochs=20,\n",
    "                   batch_size=512,\n",
    "                   validation_data=(x_val,y_val))"
   ]
  },
  {
   "cell_type": "code",
   "execution_count": 39,
   "metadata": {},
   "outputs": [
    {
     "data": {
      "image/png": "[encoded data removed]",
      "text/plain": [
       "<Figure size 432x288 with 1 Axes>"
      ]
     },
     "metadata": {},
     "output_type": "display_data"
    }
   ],
   "source": [
    "loss = history.history['loss']\n",
    "val_loss = history.history['val_loss']\n",
    "epochs = range(1,len(loss) + 1)\n",
    "plt.plot(epochs,loss,'bo',label='Training loss')\n",
    "plt.plot(epochs,val_loss,'b',label='Validation loss')\n",
    "plt.title('Training and validation loss')\n",
    "plt.xlabel('Epochs')\n",
    "plt.ylabel('Loss')\n",
    "plt.legend();"
   ]
  },
  {
   "cell_type": "code",
   "execution_count": 40,
   "metadata": {},
   "outputs": [
    {
     "data": {
      "image/png": "[encoded data removed]",
      "text/plain": [
       "<Figure size 432x288 with 1 Axes>"
      ]
     },
     "metadata": {},
     "output_type": "display_data"
    }
   ],
   "source": [
    "acc = history.history['acc']\n",
    "val_acc = history.history['val_acc']\n",
    "plt.plot(epochs,acc,'bo',label='Training acc')\n",
    "plt.plot(epochs,val_acc,'b',label='Validation acc')\n",
    "plt.title('Training and validation accuracy')\n",
    "plt.xlabel('Epochs')\n",
    "plt.ylabel('Accuracy')\n",
    "plt.legend();"
   ]
  },
  {
   "cell_type": "code",
   "execution_count": 41,
   "metadata": {},
   "outputs": [
    {
     "name": "stdout",
     "output_type": "stream",
     "text": [
      "Train on 7982 samples, validate on 1000 samples\n",
      "Epoch 1/9\n",
      "7982/7982 [==============================] - 1s 145us/step - loss: 2.5398 - acc: 0.5226 - val_loss: 1.6733 - val_acc: 0.6570\n",
      "Epoch 2/9\n",
      "7982/7982 [==============================] - 1s 109us/step - loss: 1.3712 - acc: 0.7121 - val_loss: 1.2758 - val_acc: 0.7210\n",
      "Epoch 3/9\n",
      "7982/7982 [==============================] - 1s 108us/step - loss: 1.0136 - acc: 0.7781 - val_loss: 1.1303 - val_acc: 0.7530\n",
      "Epoch 4/9\n",
      "7982/7982 [==============================] - 1s 108us/step - loss: 0.7976 - acc: 0.8251 - val_loss: 1.0539 - val_acc: 0.7590\n",
      "Epoch 5/9\n",
      "7982/7982 [==============================] - 1s 109us/step - loss: 0.6393 - acc: 0.8624 - val_loss: 0.9754 - val_acc: 0.7920\n",
      "Epoch 6/9\n",
      "7982/7982 [==============================] - 1s 112us/step - loss: 0.5124 - acc: 0.8921 - val_loss: 0.9102 - val_acc: 0.8140\n",
      "Epoch 7/9\n",
      "7982/7982 [==============================] - 1s 117us/step - loss: 0.4124 - acc: 0.9139 - val_loss: 0.8932 - val_acc: 0.8210\n",
      "Epoch 8/9\n",
      "7982/7982 [==============================] - 1s 120us/step - loss: 0.3355 - acc: 0.9290 - val_loss: 0.8733 - val_acc: 0.8260\n",
      "Epoch 9/9\n",
      "7982/7982 [==============================] - 1s 127us/step - loss: 0.2782 - acc: 0.9372 - val_loss: 0.9342 - val_acc: 0.8000\n",
      "2246/2246 [==============================] - 1s 273us/step\n",
      "[1.0227516763250635, 0.7756010686194165]\n"
     ]
    }
   ],
   "source": [
    "#model retrained, recreate with reducing number of epochs to 9\n",
    "model = models.Sequential()\n",
    "model.add(layers.Dense(64,activation='relu',input_shape=(10000,)))\n",
    "model.add(layers.Dense(64,activation='relu'))\n",
    "model.add(layers.Dense(46,activation='softmax'))\n",
    "\n",
    "model.compile(optimizer='rmsprop', loss='categorical_crossentropy', metrics=['accuracy'])\n",
    "\n",
    "model.fit(partial_x_train, partial_y_train, epochs=9, batch_size=512, validation_data=(x_val,y_val))\n",
    "\n",
    "print(model.evaluate(x_test, one_hot_test_labels))"
   ]
  },
  {
   "cell_type": "code",
   "execution_count": 43,
   "metadata": {},
   "outputs": [
    {
     "data": {
      "text/plain": [
       "0.182546749777382"
      ]
     },
     "execution_count": 43,
     "metadata": {},
     "output_type": "execute_result"
    }
   ],
   "source": [
    "#random clasification\n",
    "test_labels_copy = copy.copy(test_labels)\n",
    "np.random.shuffle(test_labels_copy)\n",
    "hit_array = np.array(test_labels) == np.array(test_labels_copy)\n",
    "float(np.sum(hit_array))/len(test_labels)"
   ]
  },
  {
   "cell_type": "code",
   "execution_count": 44,
   "metadata": {},
   "outputs": [
    {
     "data": {
      "text/plain": [
       "(46,)"
      ]
     },
     "execution_count": 44,
     "metadata": {},
     "output_type": "execute_result"
    }
   ],
   "source": [
    "#cheking model by predicting test sequence and look at shape\n",
    "prediction = model.predict(x_test)\n",
    "prediction[0].shape"
   ]
  },
  {
   "cell_type": "code",
   "execution_count": 45,
   "metadata": {},
   "outputs": [
    {
     "data": {
      "text/plain": [
       "0.99999976"
      ]
     },
     "execution_count": 45,
     "metadata": {},
     "output_type": "execute_result"
    }
   ],
   "source": [
    "np.sum(prediction[0]) #must be limited or equal 1"
   ]
  },
  {
   "cell_type": "code",
   "execution_count": 52,
   "metadata": {},
   "outputs": [
    {
     "data": {
      "text/plain": [
       "3"
      ]
     },
     "execution_count": 52,
     "metadata": {},
     "output_type": "execute_result"
    }
   ],
   "source": [
    "np.argmax(prediction[0])"
   ]
  },
  {
   "cell_type": "code",
   "execution_count": 53,
   "metadata": {},
   "outputs": [
    {
     "name": "stdout",
     "output_type": "stream",
     "text": [
      "Train on 7982 samples, validate on 1000 samples\n",
      "Epoch 1/9\n",
      "7982/7982 [==============================] - 1s 175us/step - loss: 2.1650 - acc: 0.5698 - val_loss: 1.4026 - val_acc: 0.6750\n",
      "Epoch 2/9\n",
      "7982/7982 [==============================] - 1s 121us/step - loss: 1.0982 - acc: 0.7583 - val_loss: 1.0883 - val_acc: 0.7680\n",
      "Epoch 3/9\n",
      "7982/7982 [==============================] - 1s 122us/step - loss: 0.7724 - acc: 0.8343 - val_loss: 0.9597 - val_acc: 0.8090\n",
      "Epoch 4/9\n",
      "7982/7982 [==============================] - 1s 117us/step - loss: 0.5633 - acc: 0.8822 - val_loss: 0.8792 - val_acc: 0.8210\n",
      "Epoch 5/9\n",
      "7982/7982 [==============================] - 1s 115us/step - loss: 0.4071 - acc: 0.9148 - val_loss: 0.8734 - val_acc: 0.8070\n",
      "Epoch 6/9\n",
      "7982/7982 [==============================] - 1s 112us/step - loss: 0.3140 - acc: 0.9323 - val_loss: 0.8845 - val_acc: 0.8090\n",
      "Epoch 7/9\n",
      "7982/7982 [==============================] - 1s 113us/step - loss: 0.2482 - acc: 0.9420 - val_loss: 0.8709 - val_acc: 0.8200\n",
      "Epoch 8/9\n",
      "7982/7982 [==============================] - 1s 113us/step - loss: 0.2040 - acc: 0.9486 - val_loss: 0.9350 - val_acc: 0.8060\n",
      "Epoch 9/9\n",
      "7982/7982 [==============================] - 1s 113us/step - loss: 0.1796 - acc: 0.9533 - val_loss: 0.9314 - val_acc: 0.8160\n",
      "2246/2246 [==============================] - 0s 132us/step\n",
      "[1.007604943357826, 0.796527159394479]\n"
     ]
    }
   ],
   "source": [
    "#experements\n",
    "model = models.Sequential()\n",
    "model.add(layers.Dense(128,activation='relu',input_shape=(10000,)))\n",
    "model.add(layers.Dense(128,activation='relu'))\n",
    "model.add(layers.Dense(46,activation='softmax'))\n",
    "\n",
    "model.compile(optimizer='rmsprop', loss='categorical_crossentropy', metrics=['accuracy'])\n",
    "\n",
    "model.fit(partial_x_train, partial_y_train, epochs=9, batch_size=512, validation_data=(x_val,y_val))\n",
    "\n",
    "print(model.evaluate(x_test, one_hot_test_labels))"
   ]
  },
  {
   "cell_type": "code",
   "execution_count": 54,
   "metadata": {},
   "outputs": [
    {
     "name": "stdout",
     "output_type": "stream",
     "text": [
      "Train on 7982 samples, validate on 1000 samples\n",
      "Epoch 1/9\n",
      "7982/7982 [==============================] - 1s 141us/step - loss: 2.8626 - acc: 0.3944 - val_loss: 2.1361 - val_acc: 0.5430\n",
      "Epoch 2/9\n",
      "7982/7982 [==============================] - 1s 112us/step - loss: 1.8253 - acc: 0.6334 - val_loss: 1.5945 - val_acc: 0.6620\n",
      "Epoch 3/9\n",
      "7982/7982 [==============================] - 1s 114us/step - loss: 1.3976 - acc: 0.7076 - val_loss: 1.3490 - val_acc: 0.7090\n",
      "Epoch 4/9\n",
      "7982/7982 [==============================] - 1s 107us/step - loss: 1.1622 - acc: 0.7461 - val_loss: 1.2281 - val_acc: 0.7220\n",
      "Epoch 5/9\n",
      "7982/7982 [==============================] - 1s 107us/step - loss: 0.9928 - acc: 0.7767 - val_loss: 1.1418 - val_acc: 0.7440\n",
      "Epoch 6/9\n",
      "7982/7982 [==============================] - 1s 111us/step - loss: 0.8528 - acc: 0.8062 - val_loss: 1.0727 - val_acc: 0.7570\n",
      "Epoch 7/9\n",
      "7982/7982 [==============================] - 1s 109us/step - loss: 0.7353 - acc: 0.8343 - val_loss: 1.0321 - val_acc: 0.7670\n",
      "Epoch 8/9\n",
      "7982/7982 [==============================] - 1s 108us/step - loss: 0.6335 - acc: 0.8584 - val_loss: 0.9899 - val_acc: 0.7860\n",
      "Epoch 9/9\n",
      "7982/7982 [==============================] - 1s 106us/step - loss: 0.5470 - acc: 0.8816 - val_loss: 0.9764 - val_acc: 0.7910\n",
      "2246/2246 [==============================] - 0s 127us/step\n",
      "[1.0306100412234598, 0.763579697239537]\n"
     ]
    }
   ],
   "source": [
    "#experements\n",
    "model = models.Sequential()\n",
    "model.add(layers.Dense(32,activation='relu',input_shape=(10000,)))\n",
    "model.add(layers.Dense(32,activation='relu'))\n",
    "model.add(layers.Dense(46,activation='softmax'))\n",
    "\n",
    "model.compile(optimizer='rmsprop', loss='categorical_crossentropy', metrics=['accuracy'])\n",
    "\n",
    "model.fit(partial_x_train, partial_y_train, epochs=9, batch_size=512, validation_data=(x_val,y_val))\n",
    "\n",
    "print(model.evaluate(x_test, one_hot_test_labels))"
   ]
  },
  {
   "cell_type": "code",
   "execution_count": 55,
   "metadata": {},
   "outputs": [
    {
     "name": "stdout",
     "output_type": "stream",
     "text": [
      "Train on 7982 samples, validate on 1000 samples\n",
      "Epoch 1/20\n",
      "7982/7982 [==============================] - 1s 147us/step - loss: 3.1972 - acc: 0.4068 - val_loss: 2.5412 - val_acc: 0.5740\n",
      "Epoch 2/20\n",
      "7982/7982 [==============================] - 1s 110us/step - loss: 2.0988 - acc: 0.6185 - val_loss: 1.7790 - val_acc: 0.6400\n",
      "Epoch 3/20\n",
      "7982/7982 [==============================] - 1s 111us/step - loss: 1.5124 - acc: 0.7010 - val_loss: 1.4358 - val_acc: 0.7010\n",
      "Epoch 4/20\n",
      "7982/7982 [==============================] - 1s 112us/step - loss: 1.2178 - acc: 0.7393 - val_loss: 1.2676 - val_acc: 0.7160\n",
      "Epoch 5/20\n",
      "7982/7982 [==============================] - 1s 107us/step - loss: 1.0326 - acc: 0.7769 - val_loss: 1.1600 - val_acc: 0.7430\n",
      "Epoch 6/20\n",
      "7982/7982 [==============================] - 1s 107us/step - loss: 0.8892 - acc: 0.8091 - val_loss: 1.0969 - val_acc: 0.7520\n",
      "Epoch 7/20\n",
      "7982/7982 [==============================] - 1s 108us/step - loss: 0.7689 - acc: 0.8353 - val_loss: 1.0470 - val_acc: 0.7600\n",
      "Epoch 8/20\n",
      "7982/7982 [==============================] - 1s 113us/step - loss: 0.6667 - acc: 0.8569 - val_loss: 0.9936 - val_acc: 0.7780\n",
      "Epoch 9/20\n",
      "7982/7982 [==============================] - 1s 114us/step - loss: 0.5782 - acc: 0.8767 - val_loss: 0.9641 - val_acc: 0.7870\n",
      "Epoch 10/20\n",
      "7982/7982 [==============================] - 1s 111us/step - loss: 0.5014 - acc: 0.8975 - val_loss: 0.9480 - val_acc: 0.7930\n",
      "Epoch 11/20\n",
      "7982/7982 [==============================] - 1s 111us/step - loss: 0.4330 - acc: 0.9079 - val_loss: 0.9198 - val_acc: 0.8050\n",
      "Epoch 12/20\n",
      "7982/7982 [==============================] - 1s 112us/step - loss: 0.3789 - acc: 0.9188 - val_loss: 0.9241 - val_acc: 0.8070\n",
      "Epoch 13/20\n",
      "7982/7982 [==============================] - 1s 112us/step - loss: 0.3297 - acc: 0.9297 - val_loss: 0.9182 - val_acc: 0.7990\n",
      "Epoch 14/20\n",
      "7982/7982 [==============================] - 1s 116us/step - loss: 0.2918 - acc: 0.9357 - val_loss: 0.9237 - val_acc: 0.8080\n",
      "Epoch 15/20\n",
      "7982/7982 [==============================] - 1s 111us/step - loss: 0.2592 - acc: 0.9400 - val_loss: 0.9399 - val_acc: 0.8050\n",
      "Epoch 16/20\n",
      "7982/7982 [==============================] - 1s 108us/step - loss: 0.2325 - acc: 0.9451 - val_loss: 0.9440 - val_acc: 0.8090\n",
      "Epoch 17/20\n",
      "7982/7982 [==============================] - 1s 110us/step - loss: 0.2106 - acc: 0.9468 - val_loss: 0.9541 - val_acc: 0.8030\n",
      "Epoch 18/20\n",
      "7982/7982 [==============================] - 1s 108us/step - loss: 0.1924 - acc: 0.9488 - val_loss: 0.9525 - val_acc: 0.8020\n",
      "Epoch 19/20\n",
      "7982/7982 [==============================] - 1s 108us/step - loss: 0.1761 - acc: 0.9530 - val_loss: 0.9647 - val_acc: 0.8180\n",
      "Epoch 20/20\n",
      "7982/7982 [==============================] - 1s 106us/step - loss: 0.1628 - acc: 0.9540 - val_loss: 0.9811 - val_acc: 0.8020\n",
      "2246/2246 [==============================] - 0s 136us/step\n",
      "[1.115543262085953, 0.7827248441674087]\n"
     ]
    }
   ],
   "source": [
    "#experements\n",
    "model = models.Sequential()\n",
    "model.add(layers.Dense(32,activation='relu',input_shape=(10000,)))\n",
    "model.add(layers.Dense(32,activation='relu'))\n",
    "model.add(layers.Dense(46,activation='softmax'))\n",
    "\n",
    "model.compile(optimizer='rmsprop', loss='categorical_crossentropy', metrics=['accuracy'])\n",
    "\n",
    "model.fit(partial_x_train, partial_y_train, epochs=20, batch_size=512, validation_data=(x_val,y_val))\n",
    "\n",
    "print(model.evaluate(x_test, one_hot_test_labels))"
   ]
  },
  {
   "cell_type": "code",
   "execution_count": 56,
   "metadata": {},
   "outputs": [
    {
     "name": "stdout",
     "output_type": "stream",
     "text": [
      "Train on 7982 samples, validate on 1000 samples\n",
      "Epoch 1/9\n",
      "7982/7982 [==============================] - 1s 163us/step - loss: 2.5960 - acc: 0.4166 - val_loss: 1.7413 - val_acc: 0.5680\n",
      "Epoch 2/9\n",
      "7982/7982 [==============================] - 1s 112us/step - loss: 1.5636 - acc: 0.6263 - val_loss: 1.4990 - val_acc: 0.6600\n",
      "Epoch 3/9\n",
      "7982/7982 [==============================] - 1s 111us/step - loss: 1.2237 - acc: 0.7145 - val_loss: 1.3408 - val_acc: 0.6800\n",
      "Epoch 4/9\n",
      "7982/7982 [==============================] - 1s 112us/step - loss: 1.0040 - acc: 0.7483 - val_loss: 1.2100 - val_acc: 0.7170\n",
      "Epoch 5/9\n",
      "7982/7982 [==============================] - 1s 109us/step - loss: 0.8281 - acc: 0.7879 - val_loss: 1.1457 - val_acc: 0.7420\n",
      "Epoch 6/9\n",
      "7982/7982 [==============================] - 1s 111us/step - loss: 0.7150 - acc: 0.8213 - val_loss: 1.1645 - val_acc: 0.7490\n",
      "Epoch 7/9\n",
      "7982/7982 [==============================] - 1s 109us/step - loss: 0.5558 - acc: 0.8588 - val_loss: 1.1861 - val_acc: 0.7570\n",
      "Epoch 8/9\n",
      "7982/7982 [==============================] - 1s 112us/step - loss: 0.4756 - acc: 0.8841 - val_loss: 1.1411 - val_acc: 0.7650\n",
      "Epoch 9/9\n",
      "7982/7982 [==============================] - 1s 110us/step - loss: 0.3879 - acc: 0.9062 - val_loss: 1.2823 - val_acc: 0.7530\n",
      "2246/2246 [==============================] - 0s 134us/step\n",
      "[1.3874762712157633, 0.7350845948352627]\n"
     ]
    }
   ],
   "source": [
    "#experements\n",
    "model = models.Sequential()\n",
    "model.add(layers.Dense(64,activation='relu',input_shape=(10000,)))\n",
    "model.add(layers.Dense(64,activation='relu'))\n",
    "model.add(layers.Dense(64,activation='relu'))\n",
    "model.add(layers.Dense(64,activation='relu'))\n",
    "model.add(layers.Dense(64,activation='relu'))\n",
    "model.add(layers.Dense(46,activation='softmax'))\n",
    "\n",
    "model.compile(optimizer='rmsprop', loss='categorical_crossentropy', metrics=['accuracy'])\n",
    "\n",
    "model.fit(partial_x_train, partial_y_train, epochs=9, batch_size=512, validation_data=(x_val,y_val))\n",
    "\n",
    "print(model.evaluate(x_test, one_hot_test_labels))"
   ]
  },
  {
   "cell_type": "code",
   "execution_count": 57,
   "metadata": {},
   "outputs": [
    {
     "name": "stdout",
     "output_type": "stream",
     "text": [
      "Train on 7982 samples, validate on 1000 samples\n",
      "Epoch 1/9\n",
      "7982/7982 [==============================] - 2s 198us/step - loss: 2.3956 - acc: 0.4060 - val_loss: 1.5400 - val_acc: 0.6180\n",
      "Epoch 2/9\n",
      "7982/7982 [==============================] - 1s 121us/step - loss: 1.3469 - acc: 0.6798 - val_loss: 1.2383 - val_acc: 0.6960\n",
      "Epoch 3/9\n",
      "7982/7982 [==============================] - 1s 122us/step - loss: 1.0072 - acc: 0.7418 - val_loss: 1.1503 - val_acc: 0.7290\n",
      "Epoch 4/9\n",
      "7982/7982 [==============================] - 1s 127us/step - loss: 0.7361 - acc: 0.8146 - val_loss: 1.6733 - val_acc: 0.6350\n",
      "Epoch 5/9\n",
      "7982/7982 [==============================] - 1s 127us/step - loss: 0.5883 - acc: 0.8463 - val_loss: 1.2191 - val_acc: 0.7570\n",
      "Epoch 6/9\n",
      "7982/7982 [==============================] - 1s 126us/step - loss: 0.4481 - acc: 0.8837 - val_loss: 1.0249 - val_acc: 0.7770\n",
      "Epoch 7/9\n",
      "7982/7982 [==============================] - 1s 130us/step - loss: 0.3450 - acc: 0.9083 - val_loss: 1.2108 - val_acc: 0.7490\n",
      "Epoch 8/9\n",
      "7982/7982 [==============================] - 1s 127us/step - loss: 0.2970 - acc: 0.9184 - val_loss: 1.0105 - val_acc: 0.7960\n",
      "Epoch 9/9\n",
      "7982/7982 [==============================] - 1s 126us/step - loss: 0.1899 - acc: 0.9449 - val_loss: 1.2874 - val_acc: 0.7680\n",
      "2246/2246 [==============================] - 0s 140us/step\n",
      "[1.4738503574581945, 0.747551202190209]\n"
     ]
    }
   ],
   "source": [
    "#experements\n",
    "model = models.Sequential()\n",
    "model.add(layers.Dense(256,activation='relu',input_shape=(10000,)))\n",
    "model.add(layers.Dense(256,activation='relu'))\n",
    "model.add(layers.Dense(256,activation='relu'))\n",
    "model.add(layers.Dense(256,activation='relu'))\n",
    "model.add(layers.Dense(256,activation='relu'))\n",
    "model.add(layers.Dense(46,activation='softmax'))\n",
    "\n",
    "model.compile(optimizer='rmsprop', loss='categorical_crossentropy', metrics=['accuracy'])\n",
    "\n",
    "model.fit(partial_x_train, partial_y_train, epochs=9, batch_size=512, validation_data=(x_val,y_val))\n",
    "\n",
    "print(model.evaluate(x_test, one_hot_test_labels))"
   ]
  },
  {
   "cell_type": "code",
   "execution_count": 58,
   "metadata": {},
   "outputs": [
    {
     "name": "stdout",
     "output_type": "stream",
     "text": [
      "Train on 7982 samples, validate on 1000 samples\n",
      "Epoch 1/30\n",
      "7982/7982 [==============================] - 2s 217us/step - loss: 2.8792 - acc: 0.2992 - val_loss: 1.8406 - val_acc: 0.4740\n",
      "Epoch 2/30\n",
      "7982/7982 [==============================] - 1s 127us/step - loss: 1.7685 - acc: 0.5283 - val_loss: 1.5890 - val_acc: 0.5860\n",
      "Epoch 3/30\n",
      "7982/7982 [==============================] - 1s 126us/step - loss: 1.5064 - acc: 0.5874 - val_loss: 1.4534 - val_acc: 0.6310\n",
      "Epoch 4/30\n",
      "7982/7982 [==============================] - 1s 126us/step - loss: 1.2707 - acc: 0.6596 - val_loss: 1.4213 - val_acc: 0.6450\n",
      "Epoch 5/30\n",
      "7982/7982 [==============================] - 1s 127us/step - loss: 1.0798 - acc: 0.7121 - val_loss: 1.3196 - val_acc: 0.6730\n",
      "Epoch 6/30\n",
      "7982/7982 [==============================] - 1s 126us/step - loss: 0.9292 - acc: 0.7451 - val_loss: 1.3000 - val_acc: 0.7130\n",
      "Epoch 7/30\n",
      "7982/7982 [==============================] - 1s 131us/step - loss: 0.8197 - acc: 0.7705 - val_loss: 1.2792 - val_acc: 0.7280\n",
      "Epoch 8/30\n",
      "7982/7982 [==============================] - 1s 129us/step - loss: 0.6617 - acc: 0.8163 - val_loss: 1.4211 - val_acc: 0.7270\n",
      "Epoch 9/30\n",
      "7982/7982 [==============================] - 1s 125us/step - loss: 0.6529 - acc: 0.8136 - val_loss: 1.3391 - val_acc: 0.7320\n",
      "Epoch 10/30\n",
      "7982/7982 [==============================] - 1s 130us/step - loss: 0.5223 - acc: 0.8434 - val_loss: 1.4108 - val_acc: 0.7400\n",
      "Epoch 11/30\n",
      "7982/7982 [==============================] - 1s 134us/step - loss: 0.5355 - acc: 0.8464 - val_loss: 1.3816 - val_acc: 0.7310\n",
      "Epoch 12/30\n",
      "7982/7982 [==============================] - 1s 128us/step - loss: 0.4438 - acc: 0.8666 - val_loss: 1.5600 - val_acc: 0.7450\n",
      "Epoch 13/30\n",
      "7982/7982 [==============================] - 1s 129us/step - loss: 0.4376 - acc: 0.8716 - val_loss: 1.4934 - val_acc: 0.7510\n",
      "Epoch 14/30\n",
      "7982/7982 [==============================] - 1s 129us/step - loss: 0.4496 - acc: 0.8652 - val_loss: 1.4488 - val_acc: 0.7550\n",
      "Epoch 15/30\n",
      "7982/7982 [==============================] - 1s 127us/step - loss: 0.3175 - acc: 0.8995 - val_loss: 1.5231 - val_acc: 0.7480\n",
      "Epoch 16/30\n",
      "7982/7982 [==============================] - 1s 131us/step - loss: 0.3792 - acc: 0.8918 - val_loss: 1.4519 - val_acc: 0.7500\n",
      "Epoch 17/30\n",
      "7982/7982 [==============================] - 1s 129us/step - loss: 0.2845 - acc: 0.9121 - val_loss: 1.5424 - val_acc: 0.7590\n",
      "Epoch 18/30\n",
      "7982/7982 [==============================] - 1s 127us/step - loss: 0.3866 - acc: 0.8870 - val_loss: 1.5122 - val_acc: 0.7710\n",
      "Epoch 19/30\n",
      "7982/7982 [==============================] - 1s 130us/step - loss: 0.2224 - acc: 0.9310 - val_loss: 1.6323 - val_acc: 0.7290\n",
      "Epoch 20/30\n",
      "7982/7982 [==============================] - 1s 129us/step - loss: 0.2878 - acc: 0.9196 - val_loss: 1.5081 - val_acc: 0.7700\n",
      "Epoch 21/30\n",
      "7982/7982 [==============================] - 1s 127us/step - loss: 0.1953 - acc: 0.9391 - val_loss: 2.0302 - val_acc: 0.6670\n",
      "Epoch 22/30\n",
      "7982/7982 [==============================] - 1s 131us/step - loss: 0.3017 - acc: 0.9072 - val_loss: 1.6667 - val_acc: 0.7540\n",
      "Epoch 23/30\n",
      "7982/7982 [==============================] - 1s 129us/step - loss: 0.3258 - acc: 0.9122 - val_loss: 1.9956 - val_acc: 0.6360\n",
      "Epoch 24/30\n",
      "7982/7982 [==============================] - 1s 130us/step - loss: 0.2562 - acc: 0.9276 - val_loss: 1.5676 - val_acc: 0.7710\n",
      "Epoch 25/30\n",
      "7982/7982 [==============================] - 1s 130us/step - loss: 0.1608 - acc: 0.9484 - val_loss: 1.6048 - val_acc: 0.7650\n",
      "Epoch 26/30\n",
      "7982/7982 [==============================] - 1s 130us/step - loss: 0.1322 - acc: 0.9559 - val_loss: 1.7435 - val_acc: 0.7720\n",
      "Epoch 27/30\n",
      "7982/7982 [==============================] - 1s 126us/step - loss: 0.3409 - acc: 0.9060 - val_loss: 1.5149 - val_acc: 0.7860\n",
      "Epoch 28/30\n",
      "7982/7982 [==============================] - 1s 128us/step - loss: 0.1253 - acc: 0.9597 - val_loss: 1.7164 - val_acc: 0.7720\n",
      "Epoch 29/30\n",
      "7982/7982 [==============================] - 1s 130us/step - loss: 0.1327 - acc: 0.9569 - val_loss: 1.8380 - val_acc: 0.7550\n",
      "Epoch 30/30\n",
      "7982/7982 [==============================] - 1s 131us/step - loss: 0.1839 - acc: 0.9451 - val_loss: 1.7132 - val_acc: 0.7700\n",
      "2246/2246 [==============================] - 0s 144us/step\n",
      "[2.0617865331451064, 0.7404274265626023]\n"
     ]
    }
   ],
   "source": [
    "#experements\n",
    "model = models.Sequential()\n",
    "model.add(layers.Dense(256,activation='relu',input_shape=(10000,)))\n",
    "model.add(layers.Dense(256,activation='relu'))\n",
    "model.add(layers.Dense(256,activation='relu'))\n",
    "model.add(layers.Dense(256,activation='relu'))\n",
    "model.add(layers.Dense(256,activation='relu'))\n",
    "model.add(layers.Dense(256,activation='relu'))\n",
    "model.add(layers.Dense(256,activation='relu'))\n",
    "model.add(layers.Dense(256,activation='relu'))\n",
    "model.add(layers.Dense(256,activation='relu'))\n",
    "model.add(layers.Dense(46,activation='softmax'))\n",
    "\n",
    "model.compile(optimizer='rmsprop', loss='categorical_crossentropy', metrics=['accuracy'])\n",
    "\n",
    "model.fit(partial_x_train, partial_y_train, epochs=30, batch_size=512, validation_data=(x_val,y_val))\n",
    "\n",
    "print(model.evaluate(x_test, one_hot_test_labels))"
   ]
  },
  {
   "cell_type": "code",
   "execution_count": 59,
   "metadata": {},
   "outputs": [
    {
     "name": "stdout",
     "output_type": "stream",
     "text": [
      "Train on 7982 samples, validate on 1000 samples\n",
      "Epoch 1/20\n",
      "7982/7982 [==============================] - 2s 206us/step - loss: 2.9821 - acc: 0.2601 - val_loss: 2.3427 - val_acc: 0.3710\n",
      "Epoch 2/20\n",
      "7982/7982 [==============================] - 1s 137us/step - loss: 2.0612 - acc: 0.3862 - val_loss: 1.8137 - val_acc: 0.4040\n",
      "Epoch 3/20\n",
      "7982/7982 [==============================] - 1s 138us/step - loss: 1.5687 - acc: 0.5515 - val_loss: 1.5207 - val_acc: 0.6180\n",
      "Epoch 4/20\n",
      "7982/7982 [==============================] - 1s 140us/step - loss: 1.3102 - acc: 0.6644 - val_loss: 1.4185 - val_acc: 0.6470\n",
      "Epoch 5/20\n",
      "7982/7982 [==============================] - 1s 139us/step - loss: 1.1725 - acc: 0.6814 - val_loss: 1.3783 - val_acc: 0.6510\n",
      "Epoch 6/20\n",
      "7982/7982 [==============================] - 1s 138us/step - loss: 1.0808 - acc: 0.6954 - val_loss: 1.3737 - val_acc: 0.6600\n",
      "Epoch 7/20\n",
      "7982/7982 [==============================] - 1s 137us/step - loss: 1.0090 - acc: 0.7129 - val_loss: 1.4365 - val_acc: 0.6680\n",
      "Epoch 8/20\n",
      "7982/7982 [==============================] - 1s 137us/step - loss: 0.9490 - acc: 0.7360 - val_loss: 1.4125 - val_acc: 0.6780\n",
      "Epoch 9/20\n",
      "7982/7982 [==============================] - 1s 141us/step - loss: 0.8904 - acc: 0.7575 - val_loss: 1.4370 - val_acc: 0.6850\n",
      "Epoch 10/20\n",
      "7982/7982 [==============================] - 1s 144us/step - loss: 0.8426 - acc: 0.7704 - val_loss: 1.4506 - val_acc: 0.6850\n",
      "Epoch 11/20\n",
      "7982/7982 [==============================] - 1s 141us/step - loss: 0.7993 - acc: 0.7799 - val_loss: 1.5158 - val_acc: 0.6880\n",
      "Epoch 12/20\n",
      "7982/7982 [==============================] - 1s 140us/step - loss: 0.7644 - acc: 0.7870 - val_loss: 1.5677 - val_acc: 0.6790\n",
      "Epoch 13/20\n",
      "7982/7982 [==============================] - 1s 140us/step - loss: 0.7324 - acc: 0.7942 - val_loss: 1.6165 - val_acc: 0.6830\n",
      "Epoch 14/20\n",
      "7982/7982 [==============================] - 1s 139us/step - loss: 0.7064 - acc: 0.8049 - val_loss: 1.5987 - val_acc: 0.6800\n",
      "Epoch 15/20\n",
      "7982/7982 [==============================] - 1s 140us/step - loss: 0.6817 - acc: 0.8109 - val_loss: 1.6690 - val_acc: 0.6850\n",
      "Epoch 16/20\n",
      "7982/7982 [==============================] - 1s 139us/step - loss: 0.6593 - acc: 0.8191 - val_loss: 1.7677 - val_acc: 0.6780\n",
      "Epoch 17/20\n",
      "7982/7982 [==============================] - 1s 139us/step - loss: 0.6396 - acc: 0.8236 - val_loss: 1.8260 - val_acc: 0.6710\n",
      "Epoch 18/20\n",
      "7982/7982 [==============================] - 1s 139us/step - loss: 0.6215 - acc: 0.8256 - val_loss: 1.8372 - val_acc: 0.6770\n",
      "Epoch 19/20\n",
      "7982/7982 [==============================] - 1s 136us/step - loss: 0.5969 - acc: 0.8269 - val_loss: 1.8835 - val_acc: 0.6780\n",
      "Epoch 20/20\n",
      "7982/7982 [==============================] - 1s 136us/step - loss: 0.5665 - acc: 0.8348 - val_loss: 1.9051 - val_acc: 0.6770\n",
      "2246/2246 [==============================] - 0s 133us/step\n",
      "[2.113445434205148, 0.666073018699911]\n"
     ]
    }
   ],
   "source": [
    "#experements\n",
    "model = models.Sequential()\n",
    "model.add(layers.Dense(64,activation='relu',input_shape=(10000,)))\n",
    "model.add(layers.Dense(4,activation='relu'))\n",
    "model.add(layers.Dense(46,activation='softmax'))\n",
    "\n",
    "model.compile(optimizer='rmsprop', loss='categorical_crossentropy', metrics=['accuracy'])\n",
    "\n",
    "model.fit(partial_x_train, partial_y_train, epochs=20, batch_size=128, validation_data=(x_val,y_val))\n",
    "\n",
    "print(model.evaluate(x_test, one_hot_test_labels))"
   ]
  },
  {
   "cell_type": "code",
   "execution_count": 60,
   "metadata": {},
   "outputs": [
    {
     "name": "stdout",
     "output_type": "stream",
     "text": [
      "Train on 7982 samples, validate on 1000 samples\n",
      "Epoch 1/20\n",
      "7982/7982 [==============================] - 3s 322us/step - loss: 2.6428 - acc: 0.4332 - val_loss: 2.2279 - val_acc: 0.4420\n",
      "Epoch 2/20\n",
      "7982/7982 [==============================] - 2s 248us/step - loss: 1.8924 - acc: 0.4153 - val_loss: 1.7087 - val_acc: 0.4710\n",
      "Epoch 3/20\n",
      "7982/7982 [==============================] - 2s 252us/step - loss: 1.5050 - acc: 0.5950 - val_loss: 1.5811 - val_acc: 0.5720\n",
      "Epoch 4/20\n",
      "7982/7982 [==============================] - 2s 254us/step - loss: 1.3690 - acc: 0.6144 - val_loss: 1.5653 - val_acc: 0.5930\n",
      "Epoch 5/20\n",
      "7982/7982 [==============================] - 2s 253us/step - loss: 1.2980 - acc: 0.6446 - val_loss: 1.6162 - val_acc: 0.6050\n",
      "Epoch 6/20\n",
      "7982/7982 [==============================] - 2s 256us/step - loss: 1.2386 - acc: 0.6619 - val_loss: 1.6750 - val_acc: 0.6360\n",
      "Epoch 7/20\n",
      "7982/7982 [==============================] - 2s 252us/step - loss: 1.1262 - acc: 0.7108 - val_loss: 1.5947 - val_acc: 0.6520\n",
      "Epoch 8/20\n",
      "7982/7982 [==============================] - 2s 252us/step - loss: 1.0360 - acc: 0.7434 - val_loss: 1.6016 - val_acc: 0.6770\n",
      "Epoch 9/20\n",
      "7982/7982 [==============================] - 2s 252us/step - loss: 0.9623 - acc: 0.7612 - val_loss: 1.6756 - val_acc: 0.6730\n",
      "Epoch 10/20\n",
      "7982/7982 [==============================] - 2s 258us/step - loss: 0.9081 - acc: 0.7702 - val_loss: 1.7731 - val_acc: 0.6790\n",
      "Epoch 11/20\n",
      "7982/7982 [==============================] - 2s 254us/step - loss: 0.8729 - acc: 0.7793 - val_loss: 1.8203 - val_acc: 0.6770\n",
      "Epoch 12/20\n",
      "7982/7982 [==============================] - 2s 258us/step - loss: 0.8403 - acc: 0.7866 - val_loss: 1.8007 - val_acc: 0.6720\n",
      "Epoch 13/20\n",
      "7982/7982 [==============================] - 2s 248us/step - loss: 0.8190 - acc: 0.7954 - val_loss: 1.9041 - val_acc: 0.6750\n",
      "Epoch 14/20\n",
      "7982/7982 [==============================] - 2s 253us/step - loss: 0.7937 - acc: 0.8008 - val_loss: 1.9541 - val_acc: 0.6740\n",
      "Epoch 15/20\n",
      "7982/7982 [==============================] - 2s 253us/step - loss: 0.7757 - acc: 0.8033 - val_loss: 2.0516 - val_acc: 0.6800\n",
      "Epoch 16/20\n",
      "7982/7982 [==============================] - 2s 251us/step - loss: 0.7681 - acc: 0.8051 - val_loss: 2.0349 - val_acc: 0.6670\n",
      "Epoch 17/20\n",
      "7982/7982 [==============================] - 2s 254us/step - loss: 0.7462 - acc: 0.8073 - val_loss: 2.0800 - val_acc: 0.6740\n",
      "Epoch 18/20\n",
      "7982/7982 [==============================] - 2s 254us/step - loss: 0.7402 - acc: 0.8099 - val_loss: 2.0808 - val_acc: 0.6660\n",
      "Epoch 19/20\n",
      "7982/7982 [==============================] - 2s 253us/step - loss: 0.7294 - acc: 0.8094 - val_loss: 2.1665 - val_acc: 0.6650\n",
      "Epoch 20/20\n",
      "7982/7982 [==============================] - 2s 253us/step - loss: 0.7175 - acc: 0.8135 - val_loss: 2.1876 - val_acc: 0.6690\n",
      "2246/2246 [==============================] - 0s 134us/step\n",
      "[2.1399350302196036, 0.6509349955476402]\n"
     ]
    }
   ],
   "source": [
    "#experements\n",
    "model = models.Sequential()\n",
    "model.add(layers.Dense(64,activation='relu',input_shape=(10000,)))\n",
    "model.add(layers.Dense(4,activation='relu'))\n",
    "model.add(layers.Dense(46,activation='softmax'))\n",
    "\n",
    "model.compile(optimizer='rmsprop', loss='categorical_crossentropy', metrics=['accuracy'])\n",
    "\n",
    "model.fit(partial_x_train, partial_y_train, epochs=20, batch_size=32, validation_data=(x_val,y_val))\n",
    "\n",
    "print(model.evaluate(x_test, one_hot_test_labels))"
   ]
  },
  {
   "cell_type": "code",
   "execution_count": 61,
   "metadata": {},
   "outputs": [
    {
     "name": "stdout",
     "output_type": "stream",
     "text": [
      "Train on 7982 samples, validate on 1000 samples\n",
      "Epoch 1/30\n",
      "7982/7982 [==============================] - 2s 207us/step - loss: 2.1812 - acc: 0.5239 - val_loss: 1.3665 - val_acc: 0.6880\n",
      "Epoch 2/30\n",
      "7982/7982 [==============================] - 1s 122us/step - loss: 1.1248 - acc: 0.7418 - val_loss: 1.1399 - val_acc: 0.7530\n",
      "Epoch 3/30\n",
      "7982/7982 [==============================] - 1s 122us/step - loss: 0.7771 - acc: 0.8262 - val_loss: 1.0156 - val_acc: 0.7910\n",
      "Epoch 4/30\n",
      "7982/7982 [==============================] - 1s 121us/step - loss: 0.5624 - acc: 0.8767 - val_loss: 0.9112 - val_acc: 0.8140\n",
      "Epoch 5/30\n",
      "7982/7982 [==============================] - 1s 121us/step - loss: 0.3733 - acc: 0.9217 - val_loss: 1.1401 - val_acc: 0.7430\n",
      "Epoch 6/30\n",
      "7982/7982 [==============================] - 1s 120us/step - loss: 0.2805 - acc: 0.9374 - val_loss: 0.9283 - val_acc: 0.8150\n",
      "Epoch 7/30\n",
      "7982/7982 [==============================] - 1s 119us/step - loss: 0.2704 - acc: 0.9386 - val_loss: 0.9201 - val_acc: 0.8270\n",
      "Epoch 8/30\n",
      "7982/7982 [==============================] - 1s 120us/step - loss: 0.1775 - acc: 0.9526 - val_loss: 0.9432 - val_acc: 0.8160\n",
      "Epoch 9/30\n",
      "7982/7982 [==============================] - 1s 121us/step - loss: 0.1611 - acc: 0.9543 - val_loss: 0.9888 - val_acc: 0.8170\n",
      "Epoch 10/30\n",
      "7982/7982 [==============================] - 1s 126us/step - loss: 0.1542 - acc: 0.9546 - val_loss: 1.0892 - val_acc: 0.7880\n",
      "Epoch 11/30\n",
      "7982/7982 [==============================] - 1s 121us/step - loss: 0.1319 - acc: 0.9585 - val_loss: 0.9964 - val_acc: 0.8200\n",
      "Epoch 12/30\n",
      "7982/7982 [==============================] - 1s 123us/step - loss: 0.1447 - acc: 0.9541 - val_loss: 1.0465 - val_acc: 0.8060\n",
      "Epoch 13/30\n",
      "7982/7982 [==============================] - 1s 122us/step - loss: 0.1204 - acc: 0.9555 - val_loss: 1.0472 - val_acc: 0.8130\n",
      "Epoch 14/30\n",
      "7982/7982 [==============================] - 1s 120us/step - loss: 0.1224 - acc: 0.9545 - val_loss: 1.0619 - val_acc: 0.8090\n",
      "Epoch 15/30\n",
      "7982/7982 [==============================] - 1s 123us/step - loss: 0.1132 - acc: 0.9582 - val_loss: 1.1254 - val_acc: 0.8040\n",
      "Epoch 16/30\n",
      "7982/7982 [==============================] - 1s 123us/step - loss: 0.1112 - acc: 0.9558 - val_loss: 1.2081 - val_acc: 0.7860\n",
      "Epoch 17/30\n",
      "7982/7982 [==============================] - 1s 120us/step - loss: 0.1067 - acc: 0.9564 - val_loss: 1.1054 - val_acc: 0.8090\n",
      "Epoch 18/30\n",
      "7982/7982 [==============================] - 1s 124us/step - loss: 0.1038 - acc: 0.9579 - val_loss: 1.1848 - val_acc: 0.7940\n",
      "Epoch 19/30\n",
      "7982/7982 [==============================] - 1s 121us/step - loss: 0.0980 - acc: 0.9577 - val_loss: 1.1560 - val_acc: 0.8000\n",
      "Epoch 20/30\n",
      "7982/7982 [==============================] - 1s 123us/step - loss: 0.0949 - acc: 0.9569 - val_loss: 1.1772 - val_acc: 0.8000\n",
      "Epoch 21/30\n",
      "7982/7982 [==============================] - 1s 122us/step - loss: 0.0932 - acc: 0.9582 - val_loss: 1.1946 - val_acc: 0.8070\n",
      "Epoch 22/30\n",
      "7982/7982 [==============================] - 1s 122us/step - loss: 0.0910 - acc: 0.9570 - val_loss: 1.2512 - val_acc: 0.7990\n",
      "Epoch 23/30\n",
      "7982/7982 [==============================] - 1s 126us/step - loss: 0.0907 - acc: 0.9584 - val_loss: 1.2758 - val_acc: 0.8000\n",
      "Epoch 24/30\n",
      "7982/7982 [==============================] - 1s 121us/step - loss: 0.0865 - acc: 0.9569 - val_loss: 1.2384 - val_acc: 0.7980\n",
      "Epoch 25/30\n",
      "7982/7982 [==============================] - 1s 121us/step - loss: 0.0846 - acc: 0.9574 - val_loss: 1.3285 - val_acc: 0.7920\n",
      "Epoch 26/30\n",
      "7982/7982 [==============================] - 1s 121us/step - loss: 0.0827 - acc: 0.9605 - val_loss: 1.2996 - val_acc: 0.7890\n",
      "Epoch 27/30\n",
      "7982/7982 [==============================] - 1s 121us/step - loss: 0.0806 - acc: 0.9573 - val_loss: 1.4108 - val_acc: 0.7880\n",
      "Epoch 28/30\n",
      "7982/7982 [==============================] - 1s 121us/step - loss: 0.0818 - acc: 0.9574 - val_loss: 1.3335 - val_acc: 0.7950\n",
      "Epoch 29/30\n",
      "7982/7982 [==============================] - 1s 122us/step - loss: 0.0792 - acc: 0.9579 - val_loss: 1.4183 - val_acc: 0.7820\n",
      "Epoch 30/30\n",
      "7982/7982 [==============================] - 1s 123us/step - loss: 0.0803 - acc: 0.9582 - val_loss: 1.4890 - val_acc: 0.7660\n",
      "2246/2246 [==============================] - 0s 134us/step\n",
      "[1.757556524854203, 0.7502226180406096]\n"
     ]
    }
   ],
   "source": [
    "#experements\n",
    "model = models.Sequential()\n",
    "model.add(layers.Dense(256,activation='relu',input_shape=(10000,)))\n",
    "model.add(layers.Dense(128,activation='relu'))\n",
    "model.add(layers.Dense(64,activation='relu'))\n",
    "model.add(layers.Dense(46,activation='softmax'))\n",
    "\n",
    "model.compile(optimizer='rmsprop', loss='categorical_crossentropy', metrics=['accuracy'])\n",
    "\n",
    "model.fit(partial_x_train, partial_y_train, epochs=30, batch_size=512, validation_data=(x_val,y_val))\n",
    "\n",
    "print(model.evaluate(x_test, one_hot_test_labels))"
   ]
  },
  {
   "cell_type": "code",
   "execution_count": 62,
   "metadata": {},
   "outputs": [
    {
     "name": "stdout",
     "output_type": "stream",
     "text": [
      "Train on 7982 samples, validate on 1000 samples\n",
      "Epoch 1/30\n",
      "7982/7982 [==============================] - 2s 190us/step - loss: 2.7603 - acc: 0.4697 - val_loss: 1.7879 - val_acc: 0.6050\n",
      "Epoch 2/30\n",
      "7982/7982 [==============================] - 1s 110us/step - loss: 1.5032 - acc: 0.6780 - val_loss: 1.3942 - val_acc: 0.7020\n",
      "Epoch 3/30\n",
      "7982/7982 [==============================] - 1s 109us/step - loss: 1.1502 - acc: 0.7340 - val_loss: 1.2272 - val_acc: 0.7270\n",
      "Epoch 4/30\n",
      "7982/7982 [==============================] - 1s 111us/step - loss: 0.9250 - acc: 0.7920 - val_loss: 1.1345 - val_acc: 0.7610\n",
      "Epoch 5/30\n",
      "7982/7982 [==============================] - 1s 110us/step - loss: 0.7368 - acc: 0.8411 - val_loss: 1.0528 - val_acc: 0.7820\n",
      "Epoch 6/30\n",
      "7982/7982 [==============================] - 1s 110us/step - loss: 0.5973 - acc: 0.8700 - val_loss: 0.9782 - val_acc: 0.7980\n",
      "Epoch 7/30\n",
      "7982/7982 [==============================] - 1s 112us/step - loss: 0.4673 - acc: 0.9032 - val_loss: 0.9723 - val_acc: 0.8010\n",
      "Epoch 8/30\n",
      "7982/7982 [==============================] - 1s 109us/step - loss: 0.3748 - acc: 0.9204 - val_loss: 0.9852 - val_acc: 0.8070\n",
      "Epoch 9/30\n",
      "7982/7982 [==============================] - 1s 114us/step - loss: 0.3034 - acc: 0.9351 - val_loss: 0.9683 - val_acc: 0.8150\n",
      "Epoch 10/30\n",
      "7982/7982 [==============================] - 1s 114us/step - loss: 0.2655 - acc: 0.9396 - val_loss: 0.9883 - val_acc: 0.8100\n",
      "Epoch 11/30\n",
      "7982/7982 [==============================] - 1s 115us/step - loss: 0.2196 - acc: 0.9469 - val_loss: 1.0100 - val_acc: 0.8150\n",
      "Epoch 12/30\n",
      "7982/7982 [==============================] - 1s 115us/step - loss: 0.1968 - acc: 0.9508 - val_loss: 1.0539 - val_acc: 0.7940\n",
      "Epoch 13/30\n",
      "7982/7982 [==============================] - 1s 114us/step - loss: 0.1795 - acc: 0.9516 - val_loss: 1.0571 - val_acc: 0.8050\n",
      "Epoch 14/30\n",
      "7982/7982 [==============================] - 1s 114us/step - loss: 0.1643 - acc: 0.9538 - val_loss: 1.1109 - val_acc: 0.8000\n",
      "Epoch 15/30\n",
      "7982/7982 [==============================] - 1s 116us/step - loss: 0.1538 - acc: 0.9543 - val_loss: 1.1681 - val_acc: 0.7830\n",
      "Epoch 16/30\n",
      "7982/7982 [==============================] - 1s 115us/step - loss: 0.1411 - acc: 0.9573 - val_loss: 1.3219 - val_acc: 0.7610\n",
      "Epoch 17/30\n",
      "7982/7982 [==============================] - 1s 111us/step - loss: 0.1413 - acc: 0.9569 - val_loss: 1.0701 - val_acc: 0.8060\n",
      "Epoch 18/30\n",
      "7982/7982 [==============================] - 1s 111us/step - loss: 0.1307 - acc: 0.9579 - val_loss: 1.1315 - val_acc: 0.7930\n",
      "Epoch 19/30\n",
      "7982/7982 [==============================] - 1s 112us/step - loss: 0.1307 - acc: 0.9590 - val_loss: 1.1214 - val_acc: 0.7930\n",
      "Epoch 20/30\n",
      "7982/7982 [==============================] - 1s 110us/step - loss: 0.1212 - acc: 0.9575 - val_loss: 1.1725 - val_acc: 0.7960\n",
      "Epoch 21/30\n",
      "7982/7982 [==============================] - 1s 112us/step - loss: 0.1191 - acc: 0.9583 - val_loss: 1.1643 - val_acc: 0.8000\n",
      "Epoch 22/30\n",
      "7982/7982 [==============================] - 1s 115us/step - loss: 0.1174 - acc: 0.9577 - val_loss: 1.1356 - val_acc: 0.8040\n",
      "Epoch 23/30\n",
      "7982/7982 [==============================] - 1s 111us/step - loss: 0.1172 - acc: 0.9579 - val_loss: 1.2061 - val_acc: 0.7880\n",
      "Epoch 24/30\n",
      "7982/7982 [==============================] - 1s 111us/step - loss: 0.1141 - acc: 0.9583 - val_loss: 1.1816 - val_acc: 0.7910\n",
      "Epoch 25/30\n",
      "7982/7982 [==============================] - 1s 113us/step - loss: 0.1098 - acc: 0.9585 - val_loss: 1.2847 - val_acc: 0.7850\n",
      "Epoch 26/30\n",
      "7982/7982 [==============================] - 1s 110us/step - loss: 0.1056 - acc: 0.9605 - val_loss: 1.1478 - val_acc: 0.7960\n",
      "Epoch 27/30\n",
      "7982/7982 [==============================] - 1s 112us/step - loss: 0.0991 - acc: 0.9609 - val_loss: 1.2594 - val_acc: 0.7940\n",
      "Epoch 28/30\n",
      "7982/7982 [==============================] - 1s 113us/step - loss: 0.1071 - acc: 0.9574 - val_loss: 1.2116 - val_acc: 0.7920\n",
      "Epoch 29/30\n",
      "7982/7982 [==============================] - 1s 112us/step - loss: 0.1041 - acc: 0.9582 - val_loss: 1.3299 - val_acc: 0.7750\n",
      "Epoch 30/30\n",
      "7982/7982 [==============================] - 1s 109us/step - loss: 0.1000 - acc: 0.9617 - val_loss: 1.2342 - val_acc: 0.7850\n",
      "2246/2246 [==============================] - 0s 138us/step\n",
      "[1.4428804211603778, 0.780053428317008]\n"
     ]
    }
   ],
   "source": [
    "#experements\n",
    "model = models.Sequential()\n",
    "model.add(layers.Dense(64,activation='relu',input_shape=(10000,)))\n",
    "model.add(layers.Dense(64,activation='relu'))\n",
    "model.add(layers.Dense(64,activation='relu'))\n",
    "model.add(layers.Dense(46,activation='softmax'))\n",
    "\n",
    "model.compile(optimizer='rmsprop', loss='categorical_crossentropy', metrics=['accuracy'])\n",
    "\n",
    "model.fit(partial_x_train, partial_y_train, epochs=30, batch_size=512, validation_data=(x_val,y_val))\n",
    "\n",
    "print(model.evaluate(x_test, one_hot_test_labels))"
   ]
  },
  {
   "cell_type": "code",
   "execution_count": 63,
   "metadata": {},
   "outputs": [],
   "source": [
    "reuters?"
   ]
  }
 ],
 "metadata": {
  "kernelspec": {
   "display_name": "Python 3",
   "language": "python",
   "name": "python3"
  },
  "language_info": {
   "codemirror_mode": {
    "name": "ipython",
    "version": 3
   },
   "file_extension": ".py",
   "mimetype": "text/x-python",
   "name": "python",
   "nbconvert_exporter": "python",
   "pygments_lexer": "ipython3",
   "version": "3.7.3"
  }
 },
 "nbformat": 4,
 "nbformat_minor": 2
}
