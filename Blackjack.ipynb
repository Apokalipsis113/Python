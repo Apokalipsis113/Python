{
 "cells": [
  {
   "cell_type": "code",
   "execution_count": 1,
   "metadata": {},
   "outputs": [],
   "source": [
    "import pandas as pd\n",
    "import numpy as np"
   ]
  },
  {
   "cell_type": "code",
   "execution_count": 2,
   "metadata": {},
   "outputs": [],
   "source": [
    "def f_card_names():\n",
    "#'''Create pandas.DataFrame object with deck'''\n",
    "    # names for deck cards\n",
    "    color = ['red', 'black']\n",
    "    suit_red = ['diamonds', 'hearts']\n",
    "    suit_black = ['spades', 'clubs' ]\n",
    "    suit = [suit_red, suit_black]\n",
    "    joker = 'Joker'\n",
    "    pack = ['Ace', '2', '3', '4', '5', '6', '7', '8', '9', '10', 'Jack', 'Queen', 'King']\n",
    "    deck = []\n",
    "    i = 0\n",
    "    j = 53\n",
    "    for clr in color:\n",
    "       deck.append([j, clr, None, joker])\n",
    "       j += 1\n",
    "       for st in suit:\n",
    "           if st is suit_red:\n",
    "               for st_r in suit_red:\n",
    "                   for card in pack:\n",
    "                       i += 1\n",
    "                       deck.append([i, clr, st_r, card])\n",
    "    df = pd.DataFrame(deck, columns=['index', 'color', 'suit', 'card'])\n",
    "    df.set_index('index', inplace=True)\n",
    "    df.sort_index(inplace=True)\n",
    "    return df"
   ]
  },
  {
   "cell_type": "code",
   "execution_count": 3,
   "metadata": {
    "scrolled": true
   },
   "outputs": [],
   "source": [
    "def f_card_value_by_name(card):\n",
    "    \"\"\"Allow get possible value from card\n",
    "       input: Pandas.Series form DataFrame created by f_card_names\n",
    "       return: tuple (value1, value2, win)\n",
    "           value1 if card is number or picture\n",
    "           value2 used if card is Ace\n",
    "           win 1 if card was Joker\n",
    "       except: if card not found return tuple(-1., -1., -1.)\n",
    "    \"\"\"\n",
    "    \n",
    "    values = {'Joker':12., 'Ace':1., 'Jack':10., 'Queen':10., 'King':10., '10':10., '9':9.,\n",
    "              '8':8., '7':7., '6':6., '5':5., '4':4., '3':3., '2':2.}    \n",
    "    try:\n",
    "        return values[card]\n",
    "    except:\n",
    "        return -1."
   ]
  },
  {
   "cell_type": "code",
   "execution_count": 4,
   "metadata": {},
   "outputs": [],
   "source": [
    "def f_hand_over_cards(d):\n",
    "    if d.size >= 4:\n",
    "        player = d[:2]\n",
    "        croupier = d[2:4]\n",
    "        d = d[4:]\n",
    "        return d, player, croupier\n",
    "    else:\n",
    "        print('Not enough cards in deck!')\n",
    "        return d, [], []"
   ]
  },
  {
   "cell_type": "code",
   "execution_count": 5,
   "metadata": {},
   "outputs": [],
   "source": [
    "def f_cards_values(cards_in_hand):\n",
    "    vls = []\n",
    "    cards = cards_names.iloc[cards_in_hand]\n",
    "    #print(cards)\n",
    "    for card in cards['card']:\n",
    "        #print(card)\n",
    "        vls.append(f_card_value_by_name(card)) \n",
    "    return vls"
   ]
  },
  {
   "cell_type": "code",
   "execution_count": 6,
   "metadata": {},
   "outputs": [],
   "source": [
    "def f_more_card(d, p):\n",
    "    if d.size >= 1:\n",
    "        p = np.append(p, d[0])\n",
    "        d = d[1:]\n",
    "        return d, p\n",
    "    else:\n",
    "        print('Not enough cards in deck!')\n",
    "        return None, None"
   ]
  },
  {
   "cell_type": "code",
   "execution_count": 7,
   "metadata": {},
   "outputs": [],
   "source": [
    "def f_result(crds):\n",
    "    print(crds)\n",
    "    vals = np.array(f_cards_values(crds))\n",
    "    print(vals)\n",
    "    print()\n",
    "    summ = 0.0\n",
    "    res = 'continue'\n",
    "    \n",
    "    for v in vals:\n",
    "        #Joker autowin\n",
    "        if v == 12.:\n",
    "            res = 'win'\n",
    "            return 21., res\n",
    "        #if Ace try to add 11\n",
    "        if v == 1.:\n",
    "            tmp = np.sum(vals) + 10.\n",
    "            if tmp == 21.:\n",
    "                res = 'win' \n",
    "                return tmp, res\n",
    "            if tmp < 21.:\n",
    "                res = 'continue' \n",
    "                return tmp, res\n",
    "    \n",
    "    summ = np.sum(vals)\n",
    "    if summ < 21.:\n",
    "        res = 'continue' \n",
    "        return summ, res\n",
    "    if summ == 21.:\n",
    "        res = 'win' \n",
    "        return summ, res\n",
    "    else:\n",
    "        res = 'lose' \n",
    "        return summ, res\n",
    "        \n",
    "    return summ, res"
   ]
  },
  {
   "cell_type": "code",
   "execution_count": 8,
   "metadata": {},
   "outputs": [],
   "source": [
    "def f_new_deck(num_of_decks = 1):\n",
    "    deck = np.arange(1, 54)\n",
    "    if num_of_decks > 1:\n",
    "        for i in np.arange(num_of_decks):\n",
    "            np.append(deck, deck)\n",
    "    np.random.shuffle(deck)\n",
    "    dp = np.zeros(53*num_of_decks) \n",
    "    return deck, dp"
   ]
  },
  {
   "cell_type": "code",
   "execution_count": 9,
   "metadata": {},
   "outputs": [],
   "source": [
    "cards_names = f_card_names()\n",
    "#cards_names"
   ]
  },
  {
   "cell_type": "code",
   "execution_count": 10,
   "metadata": {},
   "outputs": [
    {
     "data": {
      "text/plain": [
       "array([44, 33, 25, 53,  2, 41, 39, 18, 11, 12, 51, 50, 30, 21, 15, 27, 10,\n",
       "       29, 13, 20, 49, 19, 17,  1, 24, 32,  9,  5, 34, 22, 31,  3, 43, 37,\n",
       "       28, 40, 16, 45, 48, 26,  7, 14, 42,  6, 36, 46, 23, 35,  8, 38, 52,\n",
       "        4, 47])"
      ]
     },
     "execution_count": 10,
     "metadata": {},
     "output_type": "execute_result"
    }
   ],
   "source": [
    "deck, discard_pile = f_new_deck(1)\n",
    "deck"
   ]
  },
  {
   "cell_type": "code",
   "execution_count": 11,
   "metadata": {
    "scrolled": true
   },
   "outputs": [
    {
     "name": "stdout",
     "output_type": "stream",
     "text": [
      "player\n",
      "       color      suit card\n",
      "index                      \n",
      "45     black    hearts    6\n",
      "34     black  diamonds    8\n",
      "[44 33]\n",
      "[6. 8.]\n",
      "\n"
     ]
    },
    {
     "data": {
      "text/plain": [
       "(14.0, 'continue')"
      ]
     },
     "execution_count": 11,
     "metadata": {},
     "output_type": "execute_result"
    }
   ],
   "source": [
    "deck, player, croupier = f_hand_over_cards(deck)\n",
    "print('player')\n",
    "print(cards_names.iloc[player])\n",
    "f_result(player)"
   ]
  },
  {
   "cell_type": "code",
   "execution_count": null,
   "metadata": {},
   "outputs": [],
   "source": []
  },
  {
   "cell_type": "code",
   "execution_count": 12,
   "metadata": {},
   "outputs": [
    {
     "name": "stdout",
     "output_type": "stream",
     "text": [
      "       color      suit card\n",
      "index                      \n",
      "45     black    hearts    6\n",
      "34     black  diamonds    8\n",
      "3        red  diamonds    3\n",
      "[44 33  2]\n",
      "[6. 8. 3.]\n",
      "\n"
     ]
    },
    {
     "data": {
      "text/plain": [
       "(17.0, 'continue')"
      ]
     },
     "execution_count": 12,
     "metadata": {},
     "output_type": "execute_result"
    }
   ],
   "source": [
    "deck, player = f_more_card(deck, player)\n",
    "print(cards_names.iloc[player])\n",
    "f_result(player)"
   ]
  },
  {
   "cell_type": "code",
   "execution_count": 13,
   "metadata": {},
   "outputs": [
    {
     "name": "stdout",
     "output_type": "stream",
     "text": [
      "croupier\n",
      "       color    suit   card\n",
      "index                      \n",
      "26       red  hearts   King\n",
      "54     black    None  Joker\n",
      "[25 53]\n",
      "[10. 12.]\n",
      "\n"
     ]
    },
    {
     "data": {
      "text/plain": [
       "(21.0, 'win')"
      ]
     },
     "execution_count": 13,
     "metadata": {},
     "output_type": "execute_result"
    }
   ],
   "source": [
    "print('croupier')\n",
    "print(cards_names.iloc[croupier])\n",
    "f_result(croupier)"
   ]
  },
  {
   "cell_type": "code",
   "execution_count": 14,
   "metadata": {},
   "outputs": [
    {
     "name": "stdout",
     "output_type": "stream",
     "text": [
      "       color    suit   card\n",
      "index                      \n",
      "26       red  hearts   King\n",
      "54     black    None  Joker\n",
      "42     black  hearts      3\n",
      "[25 53 41]\n",
      "[10. 12.  3.]\n",
      "\n"
     ]
    },
    {
     "data": {
      "text/plain": [
       "(21.0, 'win')"
      ]
     },
     "execution_count": 14,
     "metadata": {},
     "output_type": "execute_result"
    }
   ],
   "source": [
    "deck, croupier = f_more_card(deck, croupier)\n",
    "print(cards_names.iloc[croupier])\n",
    "f_result(croupier)"
   ]
  },
  {
   "cell_type": "code",
   "execution_count": null,
   "metadata": {},
   "outputs": [],
   "source": [
    "def f_check(p, c):\n",
    "    "
   ]
  }
 ],
 "metadata": {
  "kernelspec": {
   "display_name": "Python 3",
   "language": "python",
   "name": "python3"
  },
  "language_info": {
   "codemirror_mode": {
    "name": "ipython",
    "version": 3
   },
   "file_extension": ".py",
   "mimetype": "text/x-python",
   "name": "python",
   "nbconvert_exporter": "python",
   "pygments_lexer": "ipython3",
   "version": "3.7.4"
  }
 },
 "nbformat": 4,
 "nbformat_minor": 2
}
