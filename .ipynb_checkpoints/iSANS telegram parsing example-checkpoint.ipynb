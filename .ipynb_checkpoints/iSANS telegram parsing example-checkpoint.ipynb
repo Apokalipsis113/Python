{
 "cells": [
  {
   "cell_type": "code",
   "execution_count": 1,
   "metadata": {},
   "outputs": [
    {
     "name": "stderr",
     "output_type": "stream",
     "text": [
      "Using TensorFlow backend.\n"
     ]
    }
   ],
   "source": [
    "import sys\n",
    "import keras\n",
    "import random\n",
    "import numpy as np\n",
    "from bs4 import BeautifulSoup\n",
    "import pandas as pd\n",
    "import matplotlib.pyplot as plt\n",
    "import seaborn as sns; sns.set()"
   ]
  },
  {
   "cell_type": "code",
   "execution_count": 2,
   "metadata": {
    "scrolled": true
   },
   "outputs": [],
   "source": [
    "#open file with history\n",
    "path = 'msg/messages.html'\n",
    "file = open(path, encoding='utf8')\n",
    "data = file.read()\n",
    "file.close()"
   ]
  },
  {
   "cell_type": "code",
   "execution_count": 3,
   "metadata": {},
   "outputs": [],
   "source": [
    "#creating parser\n",
    "soup = BeautifulSoup(data, 'html.parser')"
   ]
  },
  {
   "cell_type": "code",
   "execution_count": 4,
   "metadata": {},
   "outputs": [],
   "source": [
    "#looking for author name\n",
    "channel_name = soup.find_all('div', attrs={'class':'page_header'})\n",
    "channel_name = channel_name[0].find('div', attrs={'class':'text bold'}).text[1:-7]"
   ]
  },
  {
   "cell_type": "code",
   "execution_count": 5,
   "metadata": {
    "scrolled": false
   },
   "outputs": [
    {
     "data": {
      "text/plain": [
       "46"
      ]
     },
     "execution_count": 5,
     "metadata": {},
     "output_type": "execute_result"
    }
   ],
   "source": [
    "#get all messages in block 'history'\n",
    "history = soup.find_all('div', attrs={'class':'history'})\n",
    "history = history[0]\n",
    "messages = history.find_all('div', attrs={'class':'message default clearfix'})\n",
    "len(messages)"
   ]
  },
  {
   "cell_type": "code",
   "execution_count": 6,
   "metadata": {
    "scrolled": false
   },
   "outputs": [
    {
     "data": {
      "text/html": [
       "<div>\n",
       "<style scoped>\n",
       "    .dataframe tbody tr th:only-of-type {\n",
       "        vertical-align: middle;\n",
       "    }\n",
       "\n",
       "    .dataframe tbody tr th {\n",
       "        vertical-align: top;\n",
       "    }\n",
       "\n",
       "    .dataframe thead th {\n",
       "        text-align: right;\n",
       "    }\n",
       "</style>\n",
       "<table border=\"1\" class=\"dataframe\">\n",
       "  <thead>\n",
       "    <tr style=\"text-align: right;\">\n",
       "      <th></th>\n",
       "      <th>type</th>\n",
       "      <th>autor</th>\n",
       "      <th>text</th>\n",
       "    </tr>\n",
       "    <tr>\n",
       "      <th>date</th>\n",
       "      <th></th>\n",
       "      <th></th>\n",
       "      <th></th>\n",
       "    </tr>\n",
       "  </thead>\n",
       "  <tbody>\n",
       "    <tr>\n",
       "      <th>2019-01-05 16:21:49</th>\n",
       "      <td>message</td>\n",
       "      <td>iSANS Беларусь</td>\n",
       "      <td>Комментарий эксперта iSANS про принятую концеп...</td>\n",
       "    </tr>\n",
       "    <tr>\n",
       "      <th>2019-01-05 16:24:13</th>\n",
       "      <td>message</td>\n",
       "      <td>iSANS Беларусь</td>\n",
       "      <td>Выдержки из доклада iSANS:«В последние месяцы ...</td>\n",
       "    </tr>\n",
       "    <tr>\n",
       "      <th>2019-01-05 16:26:06</th>\n",
       "      <td>message</td>\n",
       "      <td>iSANS Беларусь</td>\n",
       "      <td>КАРДИНАЛЬНЫЕ ПЕРЕМЕНЫ В АНТИБЕЛОРУССКОЙ ДЕЗИН...</td>\n",
       "    </tr>\n",
       "    <tr>\n",
       "      <th>2019-01-05 16:26:14</th>\n",
       "      <td>message</td>\n",
       "      <td>iSANS Беларусь</td>\n",
       "      <td>https://reform.by/kolichestvo-saytov-s-antibel...</td>\n",
       "    </tr>\n",
       "    <tr>\n",
       "      <th>2019-01-05 16:27:59</th>\n",
       "      <td>message</td>\n",
       "      <td>iSANS Беларусь</td>\n",
       "      <td>«Цели: Развитие единого информационного простр...</td>\n",
       "    </tr>\n",
       "    <tr>\n",
       "      <th>2019-01-05 16:28:41</th>\n",
       "      <td>message</td>\n",
       "      <td>iSANS Беларусь</td>\n",
       "      <td>Дэвид Марплз — профессор истории Университета ...</td>\n",
       "    </tr>\n",
       "    <tr>\n",
       "      <th>2019-01-05 16:29:33</th>\n",
       "      <td>message</td>\n",
       "      <td>iSANS Беларусь</td>\n",
       "      <td>«… Очевидно, московское наступление на беларус...</td>\n",
       "    </tr>\n",
       "    <tr>\n",
       "      <th>2019-01-05 18:51:10</th>\n",
       "      <td>message</td>\n",
       "      <td>iSANS Беларусь</td>\n",
       "      <td>Что означает для Беларуси назначение послом Дм...</td>\n",
       "    </tr>\n",
       "    <tr>\n",
       "      <th>2019-01-05 18:51:10</th>\n",
       "      <td>message</td>\n",
       "      <td>iSANS Беларусь</td>\n",
       "      <td>В свою бытность губернатором Иркутской области...</td>\n",
       "    </tr>\n",
       "    <tr>\n",
       "      <th>2019-01-05 23:22:00</th>\n",
       "      <td>message</td>\n",
       "      <td>iSANS Беларусь</td>\n",
       "      <td>https://reform.by/grigorij-mesezhnikov-rossija...</td>\n",
       "    </tr>\n",
       "  </tbody>\n",
       "</table>\n",
       "</div>"
      ],
      "text/plain": [
       "                        type           autor  \\\n",
       "date                                           \n",
       "2019-01-05 16:21:49  message  iSANS Беларусь   \n",
       "2019-01-05 16:24:13  message  iSANS Беларусь   \n",
       "2019-01-05 16:26:06  message  iSANS Беларусь   \n",
       "2019-01-05 16:26:14  message  iSANS Беларусь   \n",
       "2019-01-05 16:27:59  message  iSANS Беларусь   \n",
       "2019-01-05 16:28:41  message  iSANS Беларусь   \n",
       "2019-01-05 16:29:33  message  iSANS Беларусь   \n",
       "2019-01-05 18:51:10  message  iSANS Беларусь   \n",
       "2019-01-05 18:51:10  message  iSANS Беларусь   \n",
       "2019-01-05 23:22:00  message  iSANS Беларусь   \n",
       "\n",
       "                                                                  text  \n",
       "date                                                                    \n",
       "2019-01-05 16:21:49  Комментарий эксперта iSANS про принятую концеп...  \n",
       "2019-01-05 16:24:13  Выдержки из доклада iSANS:«В последние месяцы ...  \n",
       "2019-01-05 16:26:06  КАРДИНАЛЬНЫЕ ПЕРЕМЕНЫ В АНТИБЕЛОРУССКОЙ ДЕЗИН...  \n",
       "2019-01-05 16:26:14  https://reform.by/kolichestvo-saytov-s-antibel...  \n",
       "2019-01-05 16:27:59  «Цели: Развитие единого информационного простр...  \n",
       "2019-01-05 16:28:41  Дэвид Марплз — профессор истории Университета ...  \n",
       "2019-01-05 16:29:33  «… Очевидно, московское наступление на беларус...  \n",
       "2019-01-05 18:51:10  Что означает для Беларуси назначение послом Дм...  \n",
       "2019-01-05 18:51:10  В свою бытность губернатором Иркутской области...  \n",
       "2019-01-05 23:22:00  https://reform.by/grigorij-mesezhnikov-rossija...  "
      ]
     },
     "execution_count": 6,
     "metadata": {},
     "output_type": "execute_result"
    }
   ],
   "source": [
    "#creating DataFrame with messages\n",
    "records = [] # temp operand \n",
    "\n",
    "#for every message in history\n",
    "for msg in messages:\n",
    "    #all messages have date\n",
    "    date = msg.find('div', attrs={'class':'pull_right date details'})['title']\n",
    "    \n",
    "    #if message is forwarded\n",
    "    if len(msg.find_all('div', attrs={'class':'forwarded body'})) != 0: \n",
    "        #get message\n",
    "        forwarded = msg.find('div', attrs={'class':'forwarded body'})\n",
    "        #find autor, get out as text and correct string lenght\n",
    "        source = forwarded.find('div', attrs={'class':'from_name'}).text[1:-22]\n",
    "        #get text block\n",
    "        text = msg.find('div', attrs={'class':'text'}) \n",
    "        #if message has text get it out and correct string lenght\n",
    "        if  text is not None:\n",
    "            text = text.text[1:-8]\n",
    "        msg_type = 'forwarded'\n",
    "        autor = source\n",
    "    \n",
    "    #if message is a poll\n",
    "    elif len(msg.find_all('div', attrs={'class':'media_poll'})) != 0:\n",
    "        #get poll\n",
    "        poll = msg.find('div', attrs={'class':'media_poll'})\n",
    "        #get qustion\n",
    "        question = poll.find('div', attrs={'class':'question bold'}).text[1:-10]\n",
    "        #get tuple of answers\n",
    "        answers = poll.find_all('div', attrs={'class':'answer'})\n",
    "        #building string in format \"qustion: answer, answer...\"\n",
    "        text = question + ': '\n",
    "        for answer in answers:\n",
    "            text += answer.text[3:-10] + ', '\n",
    "        text = text[:-2]\n",
    "        \n",
    "        msg_type = 'poll'\n",
    "        autor = channel_name\n",
    "    \n",
    "    #else some sort of message\n",
    "    else: \n",
    "        #get text block\n",
    "        text = msg.find('div', attrs={'class':'text'}) \n",
    "        #if message has text get it out and correct string lenght\n",
    "        if  text is not None:\n",
    "            text = text.text[1:-8]\n",
    "        msg_type = 'message'\n",
    "        autor = channel_name\n",
    "        \n",
    "        \n",
    "    #print(date, msg_type, autor)    \n",
    "    records.append((date, msg_type, autor, text))\n",
    "df = pd.DataFrame(records,columns=['date', 'type', 'autor', 'text'])\n",
    "df['date'] = pd.to_datetime(df['date'])\n",
    "df.set_index('date', inplace=True)\n",
    "#df.sort_index(inplace=True) # not recomended, forwarded messages might be older then previous \n",
    "df['text'].fillna('_empty_text_', inplace=True) #some messageses may not has text, so fill them with well known constant\n",
    "#show first 10 \n",
    "df.head(10)"
   ]
  },
  {
   "cell_type": "code",
   "execution_count": 11,
   "metadata": {},
   "outputs": [
    {
     "data": {
      "text/plain": [
       "'Выдержки из доклада iSANS:«В последние месяцы это наступление приобрело характер «гибридной войны». Государственные, квази-частные и неправительственные инициативы образуют широкую систему влияния, направленную на так называемую «глубокую интеграцию» Беларуси с Россией, а по сути – на принуждение к отказу от независимости и суверенитета. Именно такой, а не силовой сценарий поглощения Беларуси Россией представляется наиболее вероятным…Пророссийское воздействие ведется целенаправленно и скоординировано, координируется Администрацией президента России, финансируется из государственных и частных источников и осуществляется через российских и беларусских акторов, объединенных в несколько сетей. Массированная пропагандистская работа в СМИ и интернете сочетается с деятельностью разнообразных экспертных, дискуссионных и молодежных объединений и парамилитарных групп. Организаторами и исполнителями антибеларусских действий являются в основном политики и активисты, исповедующие и распространяющие имперскую, русско-националистическую, резко консервативную, крайне правую и антизападную идеологию. Многие из них активно участвовали в подготовке и реализации агрессии в Украине и прошлых конфликтах с участием России».Больше: https://reform.by/isans-dlya-russia-pogloshcheniye-b'"
      ]
     },
     "execution_count": 11,
     "metadata": {},
     "output_type": "execute_result"
    }
   ],
   "source": [
    "df.iloc[1]['text']"
   ]
  },
  {
   "cell_type": "code",
   "execution_count": null,
   "metadata": {},
   "outputs": [],
   "source": []
  }
 ],
 "metadata": {
  "kernelspec": {
   "display_name": "Python 3",
   "language": "python",
   "name": "python3"
  },
  "language_info": {
   "codemirror_mode": {
    "name": "ipython",
    "version": 3
   },
   "file_extension": ".py",
   "mimetype": "text/x-python",
   "name": "python",
   "nbconvert_exporter": "python",
   "pygments_lexer": "ipython3",
   "version": "3.7.4"
  }
 },
 "nbformat": 4,
 "nbformat_minor": 2
}
