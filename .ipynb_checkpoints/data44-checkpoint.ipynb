{
 "cells": [
  {
   "cell_type": "code",
   "execution_count": 37,
   "metadata": {},
   "outputs": [],
   "source": [
    "import numpy as np\n",
    "import pandas as pd\n",
    "import xlrd"
   ]
  },
  {
   "cell_type": "code",
   "execution_count": 38,
   "metadata": {},
   "outputs": [],
   "source": [
    "file_name = 'data44.xlsx'"
   ]
  },
  {
   "cell_type": "code",
   "execution_count": 39,
   "metadata": {},
   "outputs": [
    {
     "data": {
      "text/plain": [
       "['lab1', 'lab2', 'lab3', 'lab4']"
      ]
     },
     "execution_count": 39,
     "metadata": {},
     "output_type": "execute_result"
    }
   ],
   "source": [
    "x = xlrd.open_workbook(file_name)\n",
    "x.sheet_names()"
   ]
  },
  {
   "cell_type": "code",
   "execution_count": 40,
   "metadata": {},
   "outputs": [],
   "source": [
    "data = pd.read_excel(file_name, sheet_name='lab1')"
   ]
  },
  {
   "cell_type": "code",
   "execution_count": 57,
   "metadata": {},
   "outputs": [],
   "source": [
    "def func_mean(data):\n",
    "#     print(\"func_std is woring\")\n",
    "    res = []\n",
    "    for lvl  in data[\"lvl\"].unique():\n",
    "        j = data.loc[data.lvl == lvl ]\n",
    "        res.append(np.mean(j.iloc[:,1:4].values))\n",
    "    return res"
   ]
  },
  {
   "cell_type": "code",
   "execution_count": 58,
   "metadata": {},
   "outputs": [],
   "source": [
    "def func_std(data):\n",
    "#     print(\"func_avg is woring\")\n",
    "    res = []\n",
    "    for lvl  in data[\"lvl\"].unique():\n",
    "        j = data.loc[data[\"lvl\"] == lvl ]\n",
    "        #ddof=1 make np.std works like excel STDEV\n",
    "        res.append(np.std(j.iloc[:,1:4].values,ddof=1)) \n",
    "    return res"
   ]
  },
  {
   "cell_type": "code",
   "execution_count": 59,
   "metadata": {},
   "outputs": [],
   "source": [
    "def func_kohr(data):\n",
    "#     print(\"func_koh is woring\")\n",
    "    return np.array(func_std(data)) * np.array(func_std(data))"
   ]
  },
  {
   "cell_type": "code",
   "execution_count": 44,
   "metadata": {},
   "outputs": [
    {
     "data": {
      "text/html": [
       "<div>\n",
       "<style scoped>\n",
       "    .dataframe tbody tr th:only-of-type {\n",
       "        vertical-align: middle;\n",
       "    }\n",
       "\n",
       "    .dataframe tbody tr th {\n",
       "        vertical-align: top;\n",
       "    }\n",
       "\n",
       "    .dataframe thead th {\n",
       "        text-align: right;\n",
       "    }\n",
       "</style>\n",
       "<table border=\"1\" class=\"dataframe\">\n",
       "  <thead>\n",
       "    <tr style=\"text-align: right;\">\n",
       "      <th></th>\n",
       "      <th>test1</th>\n",
       "      <th>test2</th>\n",
       "      <th>test3</th>\n",
       "      <th>std</th>\n",
       "      <th>mean</th>\n",
       "      <th>kohr</th>\n",
       "    </tr>\n",
       "    <tr>\n",
       "      <th>lvl</th>\n",
       "      <th></th>\n",
       "      <th></th>\n",
       "      <th></th>\n",
       "      <th></th>\n",
       "      <th></th>\n",
       "      <th></th>\n",
       "    </tr>\n",
       "  </thead>\n",
       "  <tbody>\n",
       "    <tr>\n",
       "      <th>1</th>\n",
       "      <td>3.076</td>\n",
       "      <td>3.009</td>\n",
       "      <td>3.165</td>\n",
       "      <td>0.078258</td>\n",
       "      <td>3.083333</td>\n",
       "      <td>0.006124</td>\n",
       "    </tr>\n",
       "    <tr>\n",
       "      <th>2</th>\n",
       "      <td>13.080</td>\n",
       "      <td>12.636</td>\n",
       "      <td>12.900</td>\n",
       "      <td>0.223320</td>\n",
       "      <td>12.872000</td>\n",
       "      <td>0.049872</td>\n",
       "    </tr>\n",
       "    <tr>\n",
       "      <th>3</th>\n",
       "      <td>48.912</td>\n",
       "      <td>47.808</td>\n",
       "      <td>48.192</td>\n",
       "      <td>0.560457</td>\n",
       "      <td>48.304000</td>\n",
       "      <td>0.314112</td>\n",
       "    </tr>\n",
       "    <tr>\n",
       "      <th>4</th>\n",
       "      <td>197.784</td>\n",
       "      <td>184.451</td>\n",
       "      <td>196.109</td>\n",
       "      <td>7.262730</td>\n",
       "      <td>192.781333</td>\n",
       "      <td>52.747246</td>\n",
       "    </tr>\n",
       "  </tbody>\n",
       "</table>\n",
       "</div>"
      ],
      "text/plain": [
       "       test1    test2    test3       std        mean       kohr\n",
       "lvl                                                            \n",
       "1      3.076    3.009    3.165  0.078258    3.083333   0.006124\n",
       "2     13.080   12.636   12.900  0.223320   12.872000   0.049872\n",
       "3     48.912   47.808   48.192  0.560457   48.304000   0.314112\n",
       "4    197.784  184.451  196.109  7.262730  192.781333  52.747246"
      ]
     },
     "execution_count": 44,
     "metadata": {},
     "output_type": "execute_result"
    }
   ],
   "source": [
    "data[\"std\"]= func_std()\n",
    "data[\"mean\"]= func_mean()\n",
    "data[\"kohr\"]= func_kohr()\n",
    "\n",
    "data = data.set_index(\"lvl\")\n",
    "data"
   ]
  },
  {
   "cell_type": "code",
   "execution_count": 45,
   "metadata": {},
   "outputs": [],
   "source": [
    "res_file = 'res_data.xlsx'\n",
    "with pd.ExcelWriter(res_file) as writer:\n",
    "    data.to_excel(excel_writer=writer,sheet_name=\"lab1\")"
   ]
  },
  {
   "cell_type": "code",
   "execution_count": 60,
   "metadata": {},
   "outputs": [],
   "source": [
    "def calculations(source_file=\"data44.xlsx\", destenation_file=\"result.xlsx\"):\n",
    "    file = xlrd.open_workbook(source_file)\n",
    "    for name in file.sheet_names():\n",
    "        print(\"working with seet> \", name)\n",
    "        data = pd.read_excel(source_file, sheet_name=name)\n",
    "        data[\"std\"]= func_std(data)\n",
    "        data[\"mean\"]= func_mean(data)\n",
    "        data[\"kohr\"]= func_kohr(data)\n",
    "        data = data.set_index(\"lvl\")\n",
    "        with pd.ExcelWriter(destenation_file) as writer:\n",
    "            data.to_excel(excel_writer=writer,sheet_name=name)"
   ]
  },
  {
   "cell_type": "code",
   "execution_count": 61,
   "metadata": {},
   "outputs": [
    {
     "name": "stdout",
     "output_type": "stream",
     "text": [
      "working with seet>  lab1\n",
      "working with seet>  lab2\n",
      "working with seet>  lab3\n",
      "working with seet>  lab4\n"
     ]
    }
   ],
   "source": [
    "calculations()"
   ]
  },
  {
   "cell_type": "code",
   "execution_count": null,
   "metadata": {},
   "outputs": [],
   "source": []
  }
 ],
 "metadata": {
  "kernelspec": {
   "display_name": "Python 3",
   "language": "python",
   "name": "python3"
  },
  "language_info": {
   "codemirror_mode": {
    "name": "ipython",
    "version": 3
   },
   "file_extension": ".py",
   "mimetype": "text/x-python",
   "name": "python",
   "nbconvert_exporter": "python",
   "pygments_lexer": "ipython3",
   "version": "3.7.5"
  }
 },
 "nbformat": 4,
 "nbformat_minor": 2
}
