{
 "cells": [
  {
   "cell_type": "code",
   "execution_count": 1,
   "metadata": {},
   "outputs": [],
   "source": [
    "import pandas as pd\n",
    "import numpy as np"
   ]
  },
  {
   "cell_type": "code",
   "execution_count": 2,
   "metadata": {},
   "outputs": [],
   "source": [
    "def f_card_names():\n",
    "#'''Create pandas.DataFrame object with deck'''\n",
    "    # names for deck cards\n",
    "    color = ['red', 'black']\n",
    "    suit_red = ['diamonds', 'hearts']\n",
    "    suit_black = ['spades', 'clubs' ]\n",
    "    suit = [suit_red, suit_black]\n",
    "    joker = 'Joker'\n",
    "    pack = ['Ace', '2', '3', '4', '5', '6', '7', '8', '9', '10', 'Jack', 'Queen', 'King']\n",
    "    deck = []\n",
    "    i = 0\n",
    "    j = 53\n",
    "    for clr in color:\n",
    "       deck.append([j, clr, None, joker])\n",
    "       j += 1\n",
    "       for st in suit:\n",
    "           if st is suit_red:\n",
    "               for st_r in suit_red:\n",
    "                   for card in pack:\n",
    "                       i += 1\n",
    "                       deck.append([i, clr, st_r, card])\n",
    "    df = pd.DataFrame(deck, columns=['index', 'color', 'suit', 'card'])\n",
    "    df.set_index('index', inplace=True)\n",
    "    df.sort_index(inplace=True)\n",
    "    return df"
   ]
  },
  {
   "cell_type": "code",
   "execution_count": 3,
   "metadata": {
    "scrolled": true
   },
   "outputs": [],
   "source": [
    "def f_card_value_by_name(card):\n",
    "    \"\"\"Allow get possible value from card\n",
    "       input: Pandas.Series form DataFrame created by f_card_names\n",
    "       return: tuple (value1, value2, win)\n",
    "           value1 if card is number or picture\n",
    "           value2 used if card is Ace\n",
    "           win 1 if card was Joker\n",
    "       except: if card not found return tuple(-1., -1., -1.)\n",
    "    \"\"\"\n",
    "    \n",
    "    values = {'Joker':12., 'Ace':1., 'Jack':10., 'Queen':10., 'King':10., '10':10., '9':9.,\n",
    "              '8':8., '7':7., '6':6., '5':5., '4':4., '3':3., '2':2.}    \n",
    "    try:\n",
    "        return values[card]\n",
    "    except:\n",
    "        return -1."
   ]
  },
  {
   "cell_type": "code",
   "execution_count": 4,
   "metadata": {},
   "outputs": [],
   "source": [
    "def f_hand_over_cards(d):\n",
    "    if d.size >= 4:\n",
    "        player = d[:2]\n",
    "        croupier = d[2:4]\n",
    "        d = d[4:]\n",
    "        return d, player, croupier\n",
    "    else:\n",
    "        print('Not enough cards in deck!')\n",
    "        return d, [], []"
   ]
  },
  {
   "cell_type": "code",
   "execution_count": 5,
   "metadata": {},
   "outputs": [],
   "source": [
    "def f_cards_values(cards_in_hand):\n",
    "    vls = []\n",
    "    cards = cards_names.iloc[cards_in_hand]\n",
    "    #print(cards)\n",
    "    for card in cards['card']:\n",
    "        #print(card)\n",
    "        vls.append(f_card_value_by_name(card)) \n",
    "    return vls"
   ]
  },
  {
   "cell_type": "code",
   "execution_count": 6,
   "metadata": {},
   "outputs": [],
   "source": [
    "def f_more_card(d, p):\n",
    "    if d.size >= 1:\n",
    "        p = np.append(p, d[0])\n",
    "        d = d[1:]\n",
    "        return d, p\n",
    "    else:\n",
    "        print('Not enough cards in deck!')\n",
    "        return None, None"
   ]
  },
  {
   "cell_type": "code",
   "execution_count": 7,
   "metadata": {},
   "outputs": [],
   "source": [
    "def f_result(crds):\n",
    "    #print(crds)\n",
    "    vals = np.array(f_cards_values(crds))\n",
    "    #print(vals)\n",
    "    #print()\n",
    "    summ = 0.0\n",
    "    res = 'continue'\n",
    "    \n",
    "    for v in vals:\n",
    "        #Joker autowin\n",
    "        if v == 12.:\n",
    "            res = 'win'\n",
    "            return 21., res\n",
    "        #if Ace try to add 11\n",
    "        if v == 1.:\n",
    "            tmp = np.sum(vals) + 10.\n",
    "            if tmp == 21.:\n",
    "                res = 'win' \n",
    "                return tmp, res\n",
    "            if tmp < 21.:\n",
    "                res = 'continue' \n",
    "                return tmp, res\n",
    "    \n",
    "    summ = np.sum(vals)\n",
    "    if summ < 21.:\n",
    "        res = 'continue' \n",
    "        return summ, res\n",
    "    if summ == 21.:\n",
    "        res = 'win' \n",
    "        return summ, res\n",
    "    else:\n",
    "        res = 'lose' \n",
    "        return summ, res\n",
    "        \n",
    "    return summ, res"
   ]
  },
  {
   "cell_type": "code",
   "execution_count": 8,
   "metadata": {},
   "outputs": [],
   "source": [
    "def f_new_deck(num_of_decks = 1):\n",
    "    deck = np.arange(1, 54)\n",
    "    if num_of_decks > 1:\n",
    "        for i in np.arange(num_of_decks):\n",
    "            np.append(deck, deck)\n",
    "    np.random.shuffle(deck)\n",
    "    dp = np.zeros(53*num_of_decks) \n",
    "    return deck, dp"
   ]
  },
  {
   "cell_type": "code",
   "execution_count": null,
   "metadata": {},
   "outputs": [],
   "source": []
  },
  {
   "cell_type": "code",
   "execution_count": 9,
   "metadata": {},
   "outputs": [],
   "source": [
    "def f_check(p, c):\n",
    "    p = f_result(p)\n",
    "    c = f_result(c)\n",
    "    print('Player\\' hand')\n",
    "    print(p)\n",
    "    print('Crupie\\' hand')\n",
    "    print(c)\n",
    "    if p[1] is 'win':\n",
    "        \n",
    "        print('Player win!')\n",
    "        return 0.\n",
    "    \n",
    "    if p[1] is 'lose':\n",
    "        \n",
    "        print('Casino win!')\n",
    "        return 0.5\n",
    "    \n",
    "    print('Сroupier\\'s turn!')\n",
    "    return 1.\n",
    "    "
   ]
  },
  {
   "cell_type": "code",
   "execution_count": null,
   "metadata": {},
   "outputs": [],
   "source": []
  },
  {
   "cell_type": "code",
   "execution_count": 10,
   "metadata": {},
   "outputs": [],
   "source": [
    "cards_names = f_card_names()\n",
    "#cards_names"
   ]
  },
  {
   "cell_type": "code",
   "execution_count": 11,
   "metadata": {},
   "outputs": [
    {
     "data": {
      "text/plain": [
       "array([30, 43, 31,  5, 46, 27, 13, 50, 28, 18, 15, 34, 26,  6, 37, 25,  3,\n",
       "        7,  1, 45, 10,  9,  4, 32, 14, 42, 41, 12, 20, 29, 11, 51,  8,  2,\n",
       "       16, 23, 38, 49, 40, 21, 47, 52, 22, 48, 53, 19, 44, 35, 39, 36, 24,\n",
       "       17, 33])"
      ]
     },
     "execution_count": 11,
     "metadata": {},
     "output_type": "execute_result"
    }
   ],
   "source": [
    "deck, discard_pile = f_new_deck(1)\n",
    "deck"
   ]
  },
  {
   "cell_type": "code",
   "execution_count": 12,
   "metadata": {
    "scrolled": true
   },
   "outputs": [
    {
     "name": "stdout",
     "output_type": "stream",
     "text": [
      "PLAYER\n",
      "       color      suit card\n",
      "index                      \n",
      "31     black  diamonds    5\n",
      "44     black    hearts    5\n",
      "(10.0, 'continue')\n",
      "\n",
      "CROUPIE\n",
      "       color      suit card\n",
      "index                      \n",
      "32     black  diamonds    6\n",
      "6        red  diamonds    6\n",
      "(12.0, 'continue')\n"
     ]
    }
   ],
   "source": [
    "deck, player, croupier = f_hand_over_cards(deck)\n",
    "print('PLAYER')\n",
    "print(cards_names.iloc[player])\n",
    "print(f_result(player))\n",
    "print()\n",
    "print('CROUPIE')\n",
    "print(cards_names.iloc[croupier])\n",
    "print(f_result(croupier))"
   ]
  },
  {
   "cell_type": "code",
   "execution_count": null,
   "metadata": {},
   "outputs": [],
   "source": []
  },
  {
   "cell_type": "code",
   "execution_count": 13,
   "metadata": {},
   "outputs": [
    {
     "name": "stdout",
     "output_type": "stream",
     "text": [
      "       color      suit card\n",
      "index                      \n",
      "31     black  diamonds    5\n",
      "44     black    hearts    5\n",
      "47     black    hearts    8\n",
      "(18.0, 'continue')\n"
     ]
    }
   ],
   "source": [
    "deck, player = f_more_card(deck, player)\n",
    "print(cards_names.iloc[player])\n",
    "print(f_result(player))"
   ]
  },
  {
   "cell_type": "code",
   "execution_count": null,
   "metadata": {},
   "outputs": [],
   "source": []
  },
  {
   "cell_type": "code",
   "execution_count": null,
   "metadata": {},
   "outputs": [],
   "source": []
  },
  {
   "cell_type": "code",
   "execution_count": 14,
   "metadata": {
    "scrolled": true
   },
   "outputs": [
    {
     "name": "stdout",
     "output_type": "stream",
     "text": [
      "       color      suit card\n",
      "index                      \n",
      "32     black  diamonds    6\n",
      "6        red  diamonds    6\n",
      "(12.0, 'continue')\n"
     ]
    }
   ],
   "source": [
    "deck, croupie = f_more_card(deck, croupier)\n",
    "print(cards_names.iloc[croupier])\n",
    "print(f_result(croupier))"
   ]
  },
  {
   "cell_type": "code",
   "execution_count": null,
   "metadata": {},
   "outputs": [],
   "source": []
  },
  {
   "cell_type": "code",
   "execution_count": 15,
   "metadata": {},
   "outputs": [
    {
     "name": "stdout",
     "output_type": "stream",
     "text": [
      "Player' hand\n",
      "(18.0, 'continue')\n",
      "Crupie' hand\n",
      "(12.0, 'continue')\n",
      "Сroupier's turn!\n"
     ]
    },
    {
     "data": {
      "text/plain": [
       "1.0"
      ]
     },
     "execution_count": 15,
     "metadata": {},
     "output_type": "execute_result"
    }
   ],
   "source": [
    "f_check(player, croupier)"
   ]
  },
  {
   "cell_type": "code",
   "execution_count": 16,
   "metadata": {
    "scrolled": true
   },
   "outputs": [],
   "source": [
    "def f_croupie(p, c):\n",
    "    result = f_check(p, c)\n",
    "    "
   ]
  },
  {
   "cell_type": "code",
   "execution_count": 18,
   "metadata": {},
   "outputs": [
    {
     "name": "stdout",
     "output_type": "stream",
     "text": [
      "y/n?\n",
      "т\n",
      "y/n?\n",
      "y\n"
     ]
    }
   ],
   "source": [
    "while True:\n",
    "    print('y/n?')\n",
    "    if input() != 'y':\n",
    "        continue\n",
    "    else:\n",
    "        break"
   ]
  }
 ],
 "metadata": {
  "kernelspec": {
   "display_name": "Python 3",
   "language": "python",
   "name": "python3"
  },
  "language_info": {
   "codemirror_mode": {
    "name": "ipython",
    "version": 3
   },
   "file_extension": ".py",
   "mimetype": "text/x-python",
   "name": "python",
   "nbconvert_exporter": "python",
   "pygments_lexer": "ipython3",
   "version": "3.7.4"
  }
 },
 "nbformat": 4,
 "nbformat_minor": 2
}
