{
 "cells": [
  {
   "cell_type": "code",
   "execution_count": 24,
   "metadata": {},
   "outputs": [],
   "source": [
    "import tkinter as tk\n",
    "import os\n",
    "import requests \n"
   ]
  },
  {
   "cell_type": "code",
   "execution_count": 14,
   "metadata": {},
   "outputs": [],
   "source": [
    "#api.openweathermap.org/data/2.5/forecast?q={city name},{country code} request string from documentation\n",
    "def get_weather(city):\n",
    "    '''return weather for entred sity name'''\n",
    "    #token\n",
    "    token = '3b0b395acfbd1073bb48e4d5cd0ef122'\n",
    "    #api adress for request\n",
    "    url = 'https://api.openweathermap.org/data/2.5/weather'\n",
    "    params = {'APPID': token, 'q': city, 'units': 'Metric'}\n",
    "    response = requests.get(url, params=params)\n",
    "    weather = response.json()\n",
    "    print(weather)\n",
    "    label['text'] = format_response(weather)"
   ]
  },
  {
   "cell_type": "code",
   "execution_count": 15,
   "metadata": {},
   "outputs": [],
   "source": [
    "#parse json response to text for label\n",
    "def format_response(weather):\n",
    "    #trying to get structure fields\n",
    "    try:\n",
    "        name = weather['name']\n",
    "        desc = weather['weather'][0]['description']\n",
    "        temp = weather['main']['temp']\n",
    "        #building formated string\n",
    "        final_str = 'City: %s \\nConditions: %s \\nTemperature (°С): %s' % (name, desc, temp)\n",
    "    except:\n",
    "        #if there was a problem inform the user\n",
    "        final_str = 'There was a problem retrieving that information'\n",
    "\n",
    "    return final_str"
   ]
  },
  {
   "cell_type": "code",
   "execution_count": 16,
   "metadata": {},
   "outputs": [],
   "source": [
    "#main window with name 'weather'\n",
    "root = tk.Tk(className='Weather')\n",
    "HEIGHT = 500\n",
    "WIDTH = 600\n",
    "canvas = tk.Canvas(root,height=HEIGHT,width=WIDTH)\n",
    "canvas.pack()"
   ]
  },
  {
   "cell_type": "code",
   "execution_count": 17,
   "metadata": {},
   "outputs": [],
   "source": [
    "#set background image\n",
    "bg_file = tk.PhotoImage(file='bg_image.png')\n",
    "bg_label = tk.Label(root,image=bg_file)\n",
    "#placing image for fill background\n",
    "bg_label.place(relwidth=1,relheight=1)"
   ]
  },
  {
   "cell_type": "code",
   "execution_count": 18,
   "metadata": {},
   "outputs": [],
   "source": [
    "#area for entry and button\n",
    "frame = tk.Frame(root, bg='#80c1ff', bd=5)\n",
    "#put it on top\n",
    "frame.place(relx=0.5, rely=0.1, relwidth=0.75, relheight=0.1, anchor='n')"
   ]
  },
  {
   "cell_type": "code",
   "execution_count": 19,
   "metadata": {},
   "outputs": [],
   "source": [
    "#entry box on frame\n",
    "entry = tk.Entry(frame, font=40)\n",
    "entry.place(relwidth=0.65, relheight=1)"
   ]
  },
  {
   "cell_type": "code",
   "execution_count": 20,
   "metadata": {},
   "outputs": [],
   "source": [
    "#buttont for make request on frame\n",
    "button = tk.Button(frame, text=\"Get Weather\", font=40, command=lambda: get_weather(entry.get()))\n",
    "button.place(relx=0.7, relheight=1, relwidth=0.3)"
   ]
  },
  {
   "cell_type": "code",
   "execution_count": 21,
   "metadata": {},
   "outputs": [],
   "source": [
    "#lower area for text\n",
    "lower_frame = tk.Frame(root, bg='#80c1ff', bd=10)\n",
    "lower_frame.place(relx=0.5, rely=0.25, relwidth=0.75, relheight=0.6, anchor='n')"
   ]
  },
  {
   "cell_type": "code",
   "execution_count": 22,
   "metadata": {},
   "outputs": [],
   "source": [
    "#label with current weather on lower_frame\n",
    "label = tk.Label(lower_frame)\n",
    "label.place(relwidth=1, relheight=1)"
   ]
  },
  {
   "cell_type": "code",
   "execution_count": 23,
   "metadata": {},
   "outputs": [
    {
     "name": "stdout",
     "output_type": "stream",
     "text": [
      "{'coord': {'lon': 27.56, 'lat': 53.9}, 'weather': [{'id': 803, 'main': 'Clouds', 'description': 'broken clouds', 'icon': '04n'}], 'base': 'stations', 'main': {'temp': 18, 'pressure': 1015, 'humidity': 88, 'temp_min': 18, 'temp_max': 18}, 'visibility': 10000, 'wind': {'speed': 2, 'deg': 50}, 'clouds': {'all': 75}, 'dt': 1564170297, 'sys': {'type': 1, 'id': 8939, 'message': 0.0072, 'country': 'BY', 'sunrise': 1564107175, 'sunset': 1564165161}, 'timezone': 10800, 'id': 625144, 'name': 'Minsk', 'cod': 200}\n"
     ]
    }
   ],
   "source": [
    "#start main window loop\n",
    "root.mainloop()"
   ]
  },
  {
   "cell_type": "code",
   "execution_count": null,
   "metadata": {},
   "outputs": [],
   "source": []
  }
 ],
 "metadata": {
  "kernelspec": {
   "display_name": "Python 3",
   "language": "python",
   "name": "python3"
  },
  "language_info": {
   "codemirror_mode": {
    "name": "ipython",
    "version": 3
   },
   "file_extension": ".py",
   "mimetype": "text/x-python",
   "name": "python",
   "nbconvert_exporter": "python",
   "pygments_lexer": "ipython3",
   "version": "3.7.4"
  }
 },
 "nbformat": 4,
 "nbformat_minor": 2
}
