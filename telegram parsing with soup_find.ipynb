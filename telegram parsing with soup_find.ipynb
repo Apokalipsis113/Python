{
 "cells": [
  {
   "cell_type": "code",
   "execution_count": 1,
   "metadata": {},
   "outputs": [],
   "source": [
    "import sys\n",
    "import numpy as np\n",
    "from bs4 import BeautifulSoup\n",
    "import pandas as pd"
   ]
  },
  {
   "cell_type": "code",
   "execution_count": 2,
   "metadata": {
    "scrolled": true
   },
   "outputs": [],
   "source": [
    "#open file with history\n",
    "path = 'msg/messages.html'\n",
    "with open(path, encoding='utf8') as file:\n",
    "    data = file.read()"
   ]
  },
  {
   "cell_type": "code",
   "execution_count": 3,
   "metadata": {},
   "outputs": [],
   "source": [
    "#creating parser\n",
    "soup = BeautifulSoup(data, 'html.parser')"
   ]
  },
  {
   "cell_type": "code",
   "execution_count": 4,
   "metadata": {},
   "outputs": [],
   "source": [
    "#looking for author name\n",
    "channel_name = soup.find_all('div', attrs={'class':'page_header'})\n",
    "channel_name = channel_name[0].find('div', attrs={'class':'text bold'}).text[1:-7]"
   ]
  },
  {
   "cell_type": "code",
   "execution_count": 5,
   "metadata": {
    "scrolled": false
   },
   "outputs": [
    {
     "data": {
      "text/plain": [
       "998"
      ]
     },
     "execution_count": 5,
     "metadata": {},
     "output_type": "execute_result"
    }
   ],
   "source": [
    "#get all messages in block 'history'\n",
    "history = soup.find_all('div', attrs={'class':'history'})\n",
    "history = history[0]\n",
    "messages = history.find_all('div', attrs={'class':'message default clearfix'})\n",
    "len(messages)"
   ]
  },
  {
   "cell_type": "code",
   "execution_count": 6,
   "metadata": {
    "scrolled": false
   },
   "outputs": [
    {
     "data": {
      "text/html": [
       "<div>\n",
       "<style scoped>\n",
       "    .dataframe tbody tr th:only-of-type {\n",
       "        vertical-align: middle;\n",
       "    }\n",
       "\n",
       "    .dataframe tbody tr th {\n",
       "        vertical-align: top;\n",
       "    }\n",
       "\n",
       "    .dataframe thead th {\n",
       "        text-align: right;\n",
       "    }\n",
       "</style>\n",
       "<table border=\"1\" class=\"dataframe\">\n",
       "  <thead>\n",
       "    <tr style=\"text-align: right;\">\n",
       "      <th></th>\n",
       "      <th>type</th>\n",
       "      <th>autor</th>\n",
       "      <th>text</th>\n",
       "    </tr>\n",
       "    <tr>\n",
       "      <th>date</th>\n",
       "      <th></th>\n",
       "      <th></th>\n",
       "      <th></th>\n",
       "    </tr>\n",
       "  </thead>\n",
       "  <tbody>\n",
       "    <tr>\n",
       "      <th>2016-04-07 12:15:06</th>\n",
       "      <td>message</td>\n",
       "      <td>Чай з малинавым варэннем</td>\n",
       "      <td>В Минске праздничный потопЧитать</td>\n",
       "    </tr>\n",
       "    <tr>\n",
       "      <th>2016-04-07 12:15:07</th>\n",
       "      <td>message</td>\n",
       "      <td>Чай з малинавым варэннем</td>\n",
       "      <td>10 фото</td>\n",
       "    </tr>\n",
       "    <tr>\n",
       "      <th>2016-04-07 12:38:06</th>\n",
       "      <td>message</td>\n",
       "      <td>Чай з малинавым варэннем</td>\n",
       "      <td>Мы тут канал в Telegram завели, го:https://tel...</td>\n",
       "    </tr>\n",
       "    <tr>\n",
       "      <th>2016-04-07 12:38:07</th>\n",
       "      <td>message</td>\n",
       "      <td>Чай з малинавым варэннем</td>\n",
       "      <td>_empty_text_</td>\n",
       "    </tr>\n",
       "    <tr>\n",
       "      <th>2016-04-07 13:27:06</th>\n",
       "      <td>message</td>\n",
       "      <td>Чай з малинавым варэннем</td>\n",
       "      <td>История про то, как у главного дорожника Минск...</td>\n",
       "    </tr>\n",
       "    <tr>\n",
       "      <th>2016-04-07 13:27:07</th>\n",
       "      <td>message</td>\n",
       "      <td>Чай з малинавым варэннем</td>\n",
       "      <td>_empty_text_</td>\n",
       "    </tr>\n",
       "    <tr>\n",
       "      <th>2016-04-07 14:35:05</th>\n",
       "      <td>message</td>\n",
       "      <td>Чай з малинавым варэннем</td>\n",
       "      <td>В Орше вор украл велосипед, перекрасил его и п...</td>\n",
       "    </tr>\n",
       "    <tr>\n",
       "      <th>2016-04-07 20:02:08</th>\n",
       "      <td>message</td>\n",
       "      <td>Чай з малинавым варэннем</td>\n",
       "      <td>_empty_text_</td>\n",
       "    </tr>\n",
       "    <tr>\n",
       "      <th>2016-05-07 10:31:06</th>\n",
       "      <td>message</td>\n",
       "      <td>Чай з малинавым варэннем</td>\n",
       "      <td>В Гродно столкнулись две милицейские машиныhtt...</td>\n",
       "    </tr>\n",
       "    <tr>\n",
       "      <th>2016-05-07 10:31:06</th>\n",
       "      <td>message</td>\n",
       "      <td>Чай з малинавым варэннем</td>\n",
       "      <td>4 фото</td>\n",
       "    </tr>\n",
       "  </tbody>\n",
       "</table>\n",
       "</div>"
      ],
      "text/plain": [
       "                        type                     autor  \\\n",
       "date                                                     \n",
       "2016-04-07 12:15:06  message  Чай з малинавым варэннем   \n",
       "2016-04-07 12:15:07  message  Чай з малинавым варэннем   \n",
       "2016-04-07 12:38:06  message  Чай з малинавым варэннем   \n",
       "2016-04-07 12:38:07  message  Чай з малинавым варэннем   \n",
       "2016-04-07 13:27:06  message  Чай з малинавым варэннем   \n",
       "2016-04-07 13:27:07  message  Чай з малинавым варэннем   \n",
       "2016-04-07 14:35:05  message  Чай з малинавым варэннем   \n",
       "2016-04-07 20:02:08  message  Чай з малинавым варэннем   \n",
       "2016-05-07 10:31:06  message  Чай з малинавым варэннем   \n",
       "2016-05-07 10:31:06  message  Чай з малинавым варэннем   \n",
       "\n",
       "                                                                  text  \n",
       "date                                                                    \n",
       "2016-04-07 12:15:06                   В Минске праздничный потопЧитать  \n",
       "2016-04-07 12:15:07                                            10 фото  \n",
       "2016-04-07 12:38:06  Мы тут канал в Telegram завели, го:https://tel...  \n",
       "2016-04-07 12:38:07                                       _empty_text_  \n",
       "2016-04-07 13:27:06  История про то, как у главного дорожника Минск...  \n",
       "2016-04-07 13:27:07                                       _empty_text_  \n",
       "2016-04-07 14:35:05  В Орше вор украл велосипед, перекрасил его и п...  \n",
       "2016-04-07 20:02:08                                       _empty_text_  \n",
       "2016-05-07 10:31:06  В Гродно столкнулись две милицейские машиныhtt...  \n",
       "2016-05-07 10:31:06                                             4 фото  "
      ]
     },
     "execution_count": 6,
     "metadata": {},
     "output_type": "execute_result"
    }
   ],
   "source": [
    "EMPTY_TEXT = '_empty_text_'\n",
    "\n",
    "#creating DataFrame with messages\n",
    "records = [] # temp operand \n",
    "\n",
    "#for every message in history\n",
    "for msg in messages:\n",
    "    #all messages have date\n",
    "    date = msg.find('div', attrs={'class':'pull_right date details'})['title']\n",
    "    \n",
    "    #if message is forwarded\n",
    "    if len(msg.find_all('div', attrs={'class':'forwarded body'})) != 0: \n",
    "        #get message\n",
    "        forwarded = msg.find('div', attrs={'class':'forwarded body'})\n",
    "        #find autor, get out as text and correct string lenght\n",
    "        source = forwarded.find('div', attrs={'class':'from_name'}).text[1:-22]\n",
    "        #get text block\n",
    "        text = msg.find('div', attrs={'class':'text'}) \n",
    "        #if message has text get it out and correct string lenght\n",
    "        if  text is not None:\n",
    "            text = text.text[1:-8]\n",
    "        msg_type = 'forwarded'\n",
    "        autor = source\n",
    "    \n",
    "    #if message is a poll\n",
    "    elif len(msg.find_all('div', attrs={'class':'media_poll'})) != 0:\n",
    "        #get poll\n",
    "        poll = msg.find('div', attrs={'class':'media_poll'})\n",
    "        #get qustion\n",
    "        question = poll.find('div', attrs={'class':'question bold'}).text[1:-10]\n",
    "        #get tuple of answers\n",
    "        answers = poll.find_all('div', attrs={'class':'answer'})\n",
    "        #building string in format \"qustion: answer, answer...\"\n",
    "        text = question + ': '\n",
    "        for answer in answers:\n",
    "            text += answer.text[3:-10] + ', '\n",
    "        text = text[:-2]\n",
    "        \n",
    "        msg_type = 'poll'\n",
    "        autor = channel_name\n",
    "    \n",
    "    #else some sort of message\n",
    "    else: \n",
    "        #get text block\n",
    "        text = msg.find('div', attrs={'class':'text'}) \n",
    "        #if message has text get it out and correct string lenght\n",
    "        if  text is not None:\n",
    "            text = text.text[1:-8]\n",
    "        msg_type = 'message'\n",
    "        autor = channel_name\n",
    "        \n",
    "        \n",
    "    #print(date, msg_type, autor)    \n",
    "    records.append((date, msg_type, autor, text))\n",
    "df = pd.DataFrame(records,columns=['date', 'type', 'autor', 'text'])\n",
    "df['date'] = pd.to_datetime(df['date'])\n",
    "df.set_index('date', inplace=True)\n",
    "#df.sort_index(inplace=True) # not recomended, forwarded messages might be older then previous \n",
    "df['text'].fillna(EMPTY_TEXT, inplace=True) #some messageses may not has text, so fill them with well known constant\n",
    "#show first 10 \n",
    "df.head(10)"
   ]
  },
  {
   "cell_type": "code",
   "execution_count": 7,
   "metadata": {},
   "outputs": [
    {
     "data": {
      "text/plain": [
       "'10 фото'"
      ]
     },
     "execution_count": 7,
     "metadata": {},
     "output_type": "execute_result"
    }
   ],
   "source": [
    "df.iloc[1]['text']"
   ]
  },
  {
   "cell_type": "code",
   "execution_count": null,
   "metadata": {},
   "outputs": [],
   "source": []
  }
 ],
 "metadata": {
  "kernelspec": {
   "display_name": "Python 3",
   "language": "python",
   "name": "python3"
  },
  "language_info": {
   "codemirror_mode": {
    "name": "ipython",
    "version": 3
   },
   "file_extension": ".py",
   "mimetype": "text/x-python",
   "name": "python",
   "nbconvert_exporter": "python",
   "pygments_lexer": "ipython3",
   "version": "3.7.5"
  }
 },
 "nbformat": 4,
 "nbformat_minor": 2
}
