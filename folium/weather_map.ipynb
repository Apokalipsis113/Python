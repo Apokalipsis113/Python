{
 "cells": [
  {
   "cell_type": "code",
   "execution_count": 1,
   "metadata": {},
   "outputs": [],
   "source": [
    "import folium\n",
    "from IPython.display import IFrame\n",
    "import numpy as np\n",
    "import pandas as pd\n",
    "import time\n",
    "import requests \n",
    "import json"
   ]
  },
  {
   "cell_type": "code",
   "execution_count": 2,
   "metadata": {},
   "outputs": [],
   "source": [
    "cities_list ={'Minsk','Navapolatsk','Svyetlahorsk',\n",
    "              'Homyel','Vitebsk','Mahilyow',\n",
    "              'Hrodna','Brest','Babruysk',\n",
    "              'Baranovichi','Barysaw','Pinsk',\n",
    "              'Orsha','Mazyr','Soligorsk',\n",
    "              'Lida'}"
   ]
  },
  {
   "cell_type": "code",
   "execution_count": 4,
   "metadata": {},
   "outputs": [],
   "source": [
    "def get_weather(city):\n",
    "    '''return weather for entred sity name'''\n",
    "    #token\n",
    "    token = '3b0b395acfbd1073bb48e4d5cd0ef122'\n",
    "    #api adress for request\n",
    "    url = 'https://api.openweathermap.org/data/2.5/weather'\n",
    "    params = {'APPID': token, 'q': city, 'units': 'Metric'}\n",
    "    response = requests.get(url, params=params)\n",
    "    weather = response.json()\n",
    "    return weather\n",
    "    #print(weather)  "
   ]
  },
  {
   "cell_type": "code",
   "execution_count": null,
   "metadata": {},
   "outputs": [],
   "source": [
    "while True:\n",
    "    map = folium.Map(location=[53.9, 27.55], zoom_start=6)\n",
    "    for city in cities_list:\n",
    "        #print(city)\n",
    "        tmp_weather = get_weather(city)\n",
    "        #print(tmp_weather)\n",
    "        popup_text = tmp_weather['name']+'\\n'+tmp_weather['weather'][0]['description']+'\\n'+str(tmp_weather['main']['temp'])+' °С'\n",
    "        folium.Marker([tmp_weather['coord']['lat'],tmp_weather['coord']['lon']],\n",
    "                      popup=popup_text,\n",
    "                      icon=folium.Icon(icon='cloud')).add_to(map)\n",
    "        time.sleep(10)\n",
    "    print('update')\n",
    "    display(map)\n",
    "    time.sleep(300)"
   ]
  },
  {
   "cell_type": "code",
   "execution_count": 3,
   "metadata": {},
   "outputs": [],
   "source": [
    "folium.Vega?"
   ]
  },
  {
   "cell_type": "code",
   "execution_count": 5,
   "metadata": {},
   "outputs": [],
   "source": [
    "map = folium.Map(location=[53.9, 27.55], zoom_start=6)"
   ]
  },
  {
   "cell_type": "code",
   "execution_count": 7,
   "metadata": {
    "scrolled": true
   },
   "outputs": [
    {
     "data": {
      "text/plain": [
       "{'coord': {'lon': 27.56, 'lat': 53.9},\n",
       " 'weather': [{'id': 520,\n",
       "   'main': 'Rain',\n",
       "   'description': 'light intensity shower rain',\n",
       "   'icon': '09n'}],\n",
       " 'base': 'stations',\n",
       " 'main': {'temp': 16,\n",
       "  'pressure': 1014,\n",
       "  'humidity': 100,\n",
       "  'temp_min': 16,\n",
       "  'temp_max': 16},\n",
       " 'visibility': 10000,\n",
       " 'wind': {'speed': 3, 'deg': 60},\n",
       " 'clouds': {'all': 75},\n",
       " 'dt': 1564192343,\n",
       " 'sys': {'type': 1,\n",
       "  'id': 8939,\n",
       "  'message': 0.0114,\n",
       "  'country': 'BY',\n",
       "  'sunrise': 1564193671,\n",
       "  'sunset': 1564251466},\n",
       " 'timezone': 10800,\n",
       " 'id': 625144,\n",
       " 'name': 'Minsk',\n",
       " 'cod': 200}"
      ]
     },
     "execution_count": 7,
     "metadata": {},
     "output_type": "execute_result"
    }
   ],
   "source": [
    "weather = get_weather('Minsk')\n",
    "weather"
   ]
  },
  {
   "cell_type": "code",
   "execution_count": 21,
   "metadata": {},
   "outputs": [
    {
     "data": {
      "text/plain": [
       "str"
      ]
     },
     "execution_count": 21,
     "metadata": {},
     "output_type": "execute_result"
    }
   ],
   "source": [
    "data = pd.DataFrame([0.25,0.5,0.75,1.0], index=['a','b','c','d'])\n",
    "weather_json = json.dumps(weather)\n",
    "type(weather_json)"
   ]
  },
  {
   "cell_type": "code",
   "execution_count": 22,
   "metadata": {
    "scrolled": false
   },
   "outputs": [
    {
     "ename": "AttributeError",
     "evalue": "'str' object has no attribute 'read'",
     "output_type": "error",
     "traceback": [
      "\u001b[1;31m---------------------------------------------------------------------------\u001b[0m",
      "\u001b[1;31mAttributeError\u001b[0m                            Traceback (most recent call last)",
      "\u001b[1;32m<ipython-input-22-478c3e3d02aa>\u001b[0m in \u001b[0;36m<module>\u001b[1;34m\u001b[0m\n\u001b[0;32m      2\u001b[0m folium.Marker([weather['coord']['lat'],weather['coord']['lon']],\n\u001b[0;32m      3\u001b[0m               \u001b[0mtooltip\u001b[0m\u001b[1;33m=\u001b[0m\u001b[1;34m'Minsk'\u001b[0m\u001b[1;33m,\u001b[0m\u001b[1;33m\u001b[0m\u001b[1;33m\u001b[0m\u001b[0m\n\u001b[1;32m----> 4\u001b[1;33m               \u001b[0mpopup\u001b[0m\u001b[1;33m=\u001b[0m\u001b[0mfolium\u001b[0m\u001b[1;33m.\u001b[0m\u001b[0mPopup\u001b[0m\u001b[1;33m(\u001b[0m\u001b[0mwidth\u001b[0m\u001b[1;33m=\u001b[0m\u001b[1;36m450\u001b[0m\u001b[1;33m)\u001b[0m\u001b[1;33m.\u001b[0m\u001b[0madd_child\u001b[0m\u001b[1;33m(\u001b[0m\u001b[0mfolium\u001b[0m\u001b[1;33m.\u001b[0m\u001b[0mVega\u001b[0m\u001b[1;33m(\u001b[0m\u001b[0mjson\u001b[0m\u001b[1;33m.\u001b[0m\u001b[0mload\u001b[0m\u001b[1;33m(\u001b[0m\u001b[0mweather_json\u001b[0m\u001b[1;33m)\u001b[0m\u001b[1;33m)\u001b[0m\u001b[1;33m)\u001b[0m\u001b[1;33m,\u001b[0m\u001b[1;33m\u001b[0m\u001b[1;33m\u001b[0m\u001b[0m\n\u001b[0m\u001b[0;32m      5\u001b[0m               icon=folium.Icon(icon='cloud')).add_to(map)\n",
      "\u001b[1;32m~\\Anaconda3\\envs\\KerasEnv\\lib\\json\\__init__.py\u001b[0m in \u001b[0;36mload\u001b[1;34m(fp, cls, object_hook, parse_float, parse_int, parse_constant, object_pairs_hook, **kw)\u001b[0m\n\u001b[0;32m    291\u001b[0m     \u001b[0mkwarg\u001b[0m\u001b[1;33m;\u001b[0m \u001b[0motherwise\u001b[0m\u001b[0;31m \u001b[0m\u001b[0;31m`\u001b[0m\u001b[0;31m`\u001b[0m\u001b[0mJSONDecoder\u001b[0m\u001b[0;31m`\u001b[0m\u001b[0;31m`\u001b[0m \u001b[1;32mis\u001b[0m \u001b[0mused\u001b[0m\u001b[1;33m.\u001b[0m\u001b[1;33m\u001b[0m\u001b[1;33m\u001b[0m\u001b[0m\n\u001b[0;32m    292\u001b[0m     \"\"\"\n\u001b[1;32m--> 293\u001b[1;33m     return loads(fp.read(),\n\u001b[0m\u001b[0;32m    294\u001b[0m         \u001b[0mcls\u001b[0m\u001b[1;33m=\u001b[0m\u001b[0mcls\u001b[0m\u001b[1;33m,\u001b[0m \u001b[0mobject_hook\u001b[0m\u001b[1;33m=\u001b[0m\u001b[0mobject_hook\u001b[0m\u001b[1;33m,\u001b[0m\u001b[1;33m\u001b[0m\u001b[1;33m\u001b[0m\u001b[0m\n\u001b[0;32m    295\u001b[0m         \u001b[0mparse_float\u001b[0m\u001b[1;33m=\u001b[0m\u001b[0mparse_float\u001b[0m\u001b[1;33m,\u001b[0m \u001b[0mparse_int\u001b[0m\u001b[1;33m=\u001b[0m\u001b[0mparse_int\u001b[0m\u001b[1;33m,\u001b[0m\u001b[1;33m\u001b[0m\u001b[1;33m\u001b[0m\u001b[0m\n",
      "\u001b[1;31mAttributeError\u001b[0m: 'str' object has no attribute 'read'"
     ]
    }
   ],
   "source": [
    "weather_json = json.dumps(weather)\n",
    "folium.Marker([weather['coord']['lat'],weather['coord']['lon']],\n",
    "              tooltip='Minsk',\n",
    "              popup=folium.Popup(width=450).add_child(folium.Vega(json.load(weather_json))),\n",
    "              icon=folium.Icon(icon='cloud')).add_to(map)"
   ]
  },
  {
   "cell_type": "code",
   "execution_count": 23,
   "metadata": {},
   "outputs": [],
   "source": [
    "folium.Vega?"
   ]
  },
  {
   "cell_type": "code",
   "execution_count": 15,
   "metadata": {},
   "outputs": [
    {
     "data": {
      "text/html": [
       "<div style=\"width:100%;\"><div style=\"position:relative;width:100%;height:0;padding-bottom:60%;\"><iframe src=\"data:text/html;charset=utf-8;base64,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\" style=\"position:absolute;width:100%;height:100%;left:0;top:0;border:none !important;\" allowfullscreen webkitallowfullscreen mozallowfullscreen></iframe></div></div>"
      ],
      "text/plain": [
       "<folium.folium.Map at 0x1eba55e4320>"
      ]
     },
     "execution_count": 15,
     "metadata": {},
     "output_type": "execute_result"
    }
   ],
   "source": [
    "map"
   ]
  }
 ],
 "metadata": {
  "kernelspec": {
   "display_name": "Python 3",
   "language": "python",
   "name": "python3"
  },
  "language_info": {
   "codemirror_mode": {
    "name": "ipython",
    "version": 3
   },
   "file_extension": ".py",
   "mimetype": "text/x-python",
   "name": "python",
   "nbconvert_exporter": "python",
   "pygments_lexer": "ipython3",
   "version": "3.7.3"
  }
 },
 "nbformat": 4,
 "nbformat_minor": 2
}
