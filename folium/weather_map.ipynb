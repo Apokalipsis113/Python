{
 "cells": [
  {
   "cell_type": "code",
   "execution_count": 1,
   "metadata": {},
   "outputs": [],
   "source": [
    "import folium\n",
    "from IPython.display import IFrame\n",
    "import numpy as np\n",
    "import pandas as pd\n",
    "import time\n",
    "import requests \n",
    "import json"
   ]
  },
  {
   "cell_type": "code",
   "execution_count": 2,
   "metadata": {},
   "outputs": [],
   "source": [
    "cities_list ={'Minsk','Navapolatsk','Svyetlahorsk',\n",
    "              'Homyel','Vitebsk','Mahilyow',\n",
    "              'Hrodna','Brest','Babruysk',\n",
    "              'Baranovichi','Barysaw','Pinsk',\n",
    "              'Orsha','Mazyr','Soligorsk',\n",
    "              'Lida'}"
   ]
  },
  {
   "cell_type": "code",
   "execution_count": 3,
   "metadata": {},
   "outputs": [],
   "source": [
    "def get_weather(city):\n",
    "    '''return weather for entred sity name'''\n",
    "    #token\n",
    "    token = '3b0b395acfbd1073bb48e4d5cd0ef122'\n",
    "    #api adress for request\n",
    "    url = 'https://api.openweathermap.org/data/2.5/weather'\n",
    "    params = {'APPID': token, 'q': city, 'units': 'Metric'}\n",
    "    response = requests.get(url, params=params)\n",
    "    weather = response.json()\n",
    "    return weather\n",
    "    #print(weather)  "
   ]
  },
  {
   "cell_type": "code",
   "execution_count": 4,
   "metadata": {},
   "outputs": [
    {
     "ename": "KeyboardInterrupt",
     "evalue": "",
     "output_type": "error",
     "traceback": [
      "\u001b[1;31m---------------------------------------------------------------------------\u001b[0m",
      "\u001b[1;31mKeyboardInterrupt\u001b[0m                         Traceback (most recent call last)",
      "\u001b[1;32m<ipython-input-4-f156daec7d3d>\u001b[0m in \u001b[0;36m<module>\u001b[1;34m\u001b[0m\n\u001b[0;32m      9\u001b[0m                       \u001b[0mpopup\u001b[0m\u001b[1;33m=\u001b[0m\u001b[0mpopup_text\u001b[0m\u001b[1;33m,\u001b[0m\u001b[1;33m\u001b[0m\u001b[1;33m\u001b[0m\u001b[0m\n\u001b[0;32m     10\u001b[0m                       icon=folium.Icon(icon='cloud')).add_to(map)\n\u001b[1;32m---> 11\u001b[1;33m         \u001b[0mtime\u001b[0m\u001b[1;33m.\u001b[0m\u001b[0msleep\u001b[0m\u001b[1;33m(\u001b[0m\u001b[1;36m10\u001b[0m\u001b[1;33m)\u001b[0m\u001b[1;33m\u001b[0m\u001b[1;33m\u001b[0m\u001b[0m\n\u001b[0m\u001b[0;32m     12\u001b[0m     \u001b[0mprint\u001b[0m\u001b[1;33m(\u001b[0m\u001b[1;34m'update'\u001b[0m\u001b[1;33m)\u001b[0m\u001b[1;33m\u001b[0m\u001b[1;33m\u001b[0m\u001b[0m\n\u001b[0;32m     13\u001b[0m     \u001b[0mdisplay\u001b[0m\u001b[1;33m(\u001b[0m\u001b[0mmap\u001b[0m\u001b[1;33m)\u001b[0m\u001b[1;33m\u001b[0m\u001b[1;33m\u001b[0m\u001b[0m\n",
      "\u001b[1;31mKeyboardInterrupt\u001b[0m: "
     ]
    }
   ],
   "source": [
    "while True:\n",
    "    map = folium.Map(location=[53.9, 27.55], zoom_start=6)\n",
    "    for city in cities_list:\n",
    "        #print(city)\n",
    "        tmp_weather = get_weather(city)\n",
    "        #print(tmp_weather)\n",
    "        popup_text = tmp_weather['name']+'\\n'+tmp_weather['weather'][0]['description']+'\\n'+str(tmp_weather['main']['temp'])+' °С'\n",
    "        folium.Marker([tmp_weather['coord']['lat'],tmp_weather['coord']['lon']],\n",
    "                      popup=popup_text,\n",
    "                      icon=folium.Icon(icon='cloud')).add_to(map)\n",
    "        time.sleep(10)\n",
    "    print('update')\n",
    "    display(map)\n",
    "    time.sleep(300)"
   ]
  },
  {
   "cell_type": "code",
   "execution_count": null,
   "metadata": {},
   "outputs": [],
   "source": []
  },
  {
   "cell_type": "code",
   "execution_count": null,
   "metadata": {},
   "outputs": [],
   "source": []
  },
  {
   "cell_type": "code",
   "execution_count": null,
   "metadata": {},
   "outputs": [],
   "source": []
  }
 ],
 "metadata": {
  "kernelspec": {
   "display_name": "Python 3",
   "language": "python",
   "name": "python3"
  },
  "language_info": {
   "codemirror_mode": {
    "name": "ipython",
    "version": 3
   },
   "file_extension": ".py",
   "mimetype": "text/x-python",
   "name": "python",
   "nbconvert_exporter": "python",
   "pygments_lexer": "ipython3",
   "version": "3.7.3"
  }
 },
 "nbformat": 4,
 "nbformat_minor": 2
}
